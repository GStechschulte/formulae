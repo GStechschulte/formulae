{
 "cells": [
  {
   "source": [
    "# Model description features"
   ],
   "cell_type": "markdown",
   "metadata": {}
  },
  {
   "cell_type": "code",
   "execution_count": 1,
   "metadata": {},
   "outputs": [],
   "source": [
    "import formulae as fm\n",
    "import numpy as np\n",
    "import pandas as pd"
   ]
  },
  {
   "source": [
    "## Operator precedence\n",
    "\n",
    "All binary operators are left-associative, but some of them bind tighther than others. This is a list of binary operators sorted from lowest to highest precedence.\n",
    "\n",
    "* `~` which separates the response term from the explanatory variables. There can be at most one of this per formula.\n",
    "* `|` random effect operator. As seen in `lme4` R package. Don't necessary require parentheses but will be almost always used with them.\n",
    "* `+` and `-` add and remove terms. `+` can be thought as a set union operator, while `-` removes a term from a set if the term is present and leaves the term as it is if not.\n",
    "* `*` and `/`. `a*b` is a shorthand for `a + b + a:b` and `/` is a shorthand for `a + a:b`. However there are particular cases for the latter when working with grouped terms (i.e. more than one term within parentheses).\n",
    "* `:` indicates interaction between operands.\n",
    "* `**` as in Patsy, it takes a set of terms on the left and a positive integer `n` on the right. Then it computes all interactions between the terms in the set up to order `n`.\n"
   ],
   "cell_type": "markdown",
   "metadata": {}
  },
  {
   "source": [
    "## Implicit intercept\n",
    "\n",
    "As in R, Patsy and all/most implementations, this implementation assumes there is an implicit intercept. This can be removed with `0` or `-1`."
   ],
   "cell_type": "markdown",
   "metadata": {}
  },
  {
   "cell_type": "code",
   "execution_count": 2,
   "metadata": {},
   "outputs": [
    {
     "output_type": "execute_result",
     "data": {
      "text/plain": [
       "ModelTerms(\n",
       "  ResponseTerm(\n",
       "    Term(\n",
       "      name= y\n",
       "      variable= y\n",
       "      kind= None\n",
       "    )\n",
       "  ),\n",
       "  InterceptTerm(),\n",
       "  Term(\n",
       "    name= x\n",
       "    variable= x\n",
       "    kind= None\n",
       "  )\n",
       ")"
      ]
     },
     "metadata": {},
     "execution_count": 2
    }
   ],
   "source": [
    "fm.model_description('y ~ x')"
   ]
  },
  {
   "cell_type": "code",
   "execution_count": 3,
   "metadata": {},
   "outputs": [
    {
     "output_type": "execute_result",
     "data": {
      "text/plain": [
       "ModelTerms(\n",
       "  ResponseTerm(\n",
       "    Term(\n",
       "      name= y\n",
       "      variable= y\n",
       "      kind= None\n",
       "    )\n",
       "  ),\n",
       "  Term(\n",
       "    name= x\n",
       "    variable= x\n",
       "    kind= None\n",
       "  )\n",
       ")"
      ]
     },
     "metadata": {},
     "execution_count": 3
    }
   ],
   "source": [
    "fm.model_description('y ~ 0 + x') # same with -1"
   ]
  },
  {
   "source": [
    "## Group specific terms (a.k.a random terms)\n",
    "\n",
    "One of the main differences between Patsy and this implementation is that you can pass group specific terms to the model formula using the same syntax than in `lme4` R package. As in there, parentheses are optional and there is an implicit intercept too. Then, `(x | g)` is a shorthand for `(1|g)` + `(x|g)`"
   ],
   "cell_type": "markdown",
   "metadata": {}
  },
  {
   "cell_type": "code",
   "execution_count": 4,
   "metadata": {},
   "outputs": [
    {
     "output_type": "execute_result",
     "data": {
      "text/plain": [
       "GroupSpecTerm(\n",
       "  expr= InterceptTerm(),\n",
       "  factor= Term(\n",
       "    name= x\n",
       "    variable= x\n",
       "    kind= None\n",
       "  )\n",
       ")"
      ]
     },
     "metadata": {},
     "execution_count": 4
    }
   ],
   "source": [
    "fm.model_description('1|x')"
   ]
  },
  {
   "source": [
    "Note that if we don't use parenthesis here, formulae will understand that the LHS of the `|` operator is `a + 1`. That's why you will almost always see parenthesis with random terms."
   ],
   "cell_type": "markdown",
   "metadata": {}
  },
  {
   "cell_type": "code",
   "execution_count": 5,
   "metadata": {},
   "outputs": [
    {
     "output_type": "execute_result",
     "data": {
      "text/plain": [
       "ModelTerms(\n",
       "  InterceptTerm(),\n",
       "  Term(\n",
       "    name= a\n",
       "    variable= a\n",
       "    kind= None\n",
       "  ),\n",
       "  GroupSpecTerm(\n",
       "    expr= InterceptTerm(),\n",
       "    factor= Term(\n",
       "      name= x\n",
       "      variable= x\n",
       "      kind= None\n",
       "    )\n",
       "  )\n",
       ")"
      ]
     },
     "metadata": {},
     "execution_count": 5
    }
   ],
   "source": [
    "fm.model_description('a + (1|x)')"
   ]
  },
  {
   "source": [
    "The operator is associative."
   ],
   "cell_type": "markdown",
   "metadata": {}
  },
  {
   "cell_type": "code",
   "execution_count": 6,
   "metadata": {},
   "outputs": [
    {
     "output_type": "execute_result",
     "data": {
      "text/plain": [
       "ModelTerms(\n",
       "  InterceptTerm(),\n",
       "  GroupSpecTerm(\n",
       "    expr= InterceptTerm(),\n",
       "    factor= Term(\n",
       "      name= g1\n",
       "      variable= g1\n",
       "      kind= None\n",
       "    )\n",
       "  ),\n",
       "  GroupSpecTerm(\n",
       "    expr= InterceptTerm(),\n",
       "    factor= Term(\n",
       "      name= g2\n",
       "      variable= g2\n",
       "      kind= None\n",
       "    )\n",
       "  ),\n",
       "  GroupSpecTerm(\n",
       "    expr= Term(\n",
       "      name= x\n",
       "      variable= x\n",
       "      kind= None\n",
       "    ),\n",
       "    factor= Term(\n",
       "      name= g1\n",
       "      variable= g1\n",
       "      kind= None\n",
       "    )\n",
       "  ),\n",
       "  GroupSpecTerm(\n",
       "    expr= Term(\n",
       "      name= x\n",
       "      variable= x\n",
       "      kind= None\n",
       "    ),\n",
       "    factor= Term(\n",
       "      name= g2\n",
       "      variable= g2\n",
       "      kind= None\n",
       "    )\n",
       "  )\n",
       ")"
      ]
     },
     "metadata": {},
     "execution_count": 6
    }
   ],
   "source": [
    "fm.model_description('(x | g1 + g2)')"
   ]
  },
  {
   "source": [
    "## Add and remove terms"
   ],
   "cell_type": "markdown",
   "metadata": {}
  },
  {
   "source": [
    "Just a simple demonstration, not much fun going on here. Nothing happens with `c` because it is not in the model specification."
   ],
   "cell_type": "markdown",
   "metadata": {}
  },
  {
   "cell_type": "code",
   "execution_count": 7,
   "metadata": {},
   "outputs": [
    {
     "output_type": "execute_result",
     "data": {
      "text/plain": [
       "ModelTerms(\n",
       "  ResponseTerm(\n",
       "    Term(\n",
       "      name= y\n",
       "      variable= y\n",
       "      kind= None\n",
       "    )\n",
       "  ),\n",
       "  InterceptTerm(),\n",
       "  Term(\n",
       "    name= a\n",
       "    variable= a\n",
       "    kind= None\n",
       "  ),\n",
       "  Term(\n",
       "    name= b\n",
       "    variable= b\n",
       "    kind= None\n",
       "  )\n",
       ")"
      ]
     },
     "metadata": {},
     "execution_count": 7
    }
   ],
   "source": [
    "fm.model_description('y ~ a + b - c')"
   ]
  },
  {
   "source": [
    "And here we don't see it either."
   ],
   "cell_type": "markdown",
   "metadata": {}
  },
  {
   "cell_type": "code",
   "execution_count": 8,
   "metadata": {},
   "outputs": [
    {
     "output_type": "execute_result",
     "data": {
      "text/plain": [
       "ModelTerms(\n",
       "  ResponseTerm(\n",
       "    Term(\n",
       "      name= y\n",
       "      variable= y\n",
       "      kind= None\n",
       "    )\n",
       "  ),\n",
       "  InterceptTerm(),\n",
       "  Term(\n",
       "    name= a\n",
       "    variable= a\n",
       "    kind= None\n",
       "  ),\n",
       "  Term(\n",
       "    name= b\n",
       "    variable= b\n",
       "    kind= None\n",
       "  )\n",
       ")"
      ]
     },
     "metadata": {},
     "execution_count": 8
    }
   ],
   "source": [
    "fm.model_description('y ~ a + c + b - c')"
   ]
  },
  {
   "source": [
    "But since terms are left-associative, there's no `c` when we remove it and we end up adding it in the end."
   ],
   "cell_type": "markdown",
   "metadata": {}
  },
  {
   "cell_type": "code",
   "execution_count": 9,
   "metadata": {},
   "outputs": [
    {
     "output_type": "execute_result",
     "data": {
      "text/plain": [
       "ModelTerms(\n",
       "  ResponseTerm(\n",
       "    Term(\n",
       "      name= y\n",
       "      variable= y\n",
       "      kind= None\n",
       "    )\n",
       "  ),\n",
       "  InterceptTerm(),\n",
       "  Term(\n",
       "    name= a\n",
       "    variable= a\n",
       "    kind= None\n",
       "  ),\n",
       "  Term(\n",
       "    name= b\n",
       "    variable= b\n",
       "    kind= None\n",
       "  ),\n",
       "  Term(\n",
       "    name= c\n",
       "    variable= c\n",
       "    kind= None\n",
       "  )\n",
       ")"
      ]
     },
     "metadata": {},
     "execution_count": 9
    }
   ],
   "source": [
    "fm.model_description('y ~ a - c + b + c')"
   ]
  },
  {
   "source": [
    "Below we're going to see better usages for the `-` operator."
   ],
   "cell_type": "markdown",
   "metadata": {}
  },
  {
   "source": [
    "## Interactions\n",
    "Interactions of a term with itself return the term unchanged, i.e. `a:a` equals `a`.\n",
    "\n",
    "### `:` operator"
   ],
   "cell_type": "markdown",
   "metadata": {}
  },
  {
   "cell_type": "code",
   "execution_count": 10,
   "metadata": {},
   "outputs": [
    {
     "output_type": "execute_result",
     "data": {
      "text/plain": [
       "ModelTerms(\n",
       "  ResponseTerm(\n",
       "    Term(\n",
       "      name= y\n",
       "      variable= y\n",
       "      kind= None\n",
       "    )\n",
       "  ),\n",
       "  InterceptTerm(),\n",
       "  InteractionTerm(\n",
       "    name= a:b\n",
       "    variables= {'b', 'a'}\n",
       "  ),\n",
       "  InteractionTerm(\n",
       "    name= c:d\n",
       "    variables= {'d', 'c'}\n",
       "  )\n",
       ")"
      ]
     },
     "metadata": {},
     "execution_count": 10
    }
   ],
   "source": [
    "fm.model_description('y ~ a:b + c:d')"
   ]
  },
  {
   "source": [
    "### `*` operator\n"
   ],
   "cell_type": "markdown",
   "metadata": {}
  },
  {
   "cell_type": "code",
   "execution_count": 11,
   "metadata": {},
   "outputs": [
    {
     "output_type": "execute_result",
     "data": {
      "text/plain": [
       "ModelTerms(\n",
       "  ResponseTerm(\n",
       "    Term(\n",
       "      name= y\n",
       "      variable= y\n",
       "      kind= None\n",
       "    )\n",
       "  ),\n",
       "  Term(\n",
       "    name= a\n",
       "    variable= a\n",
       "    kind= None\n",
       "  ),\n",
       "  Term(\n",
       "    name= b\n",
       "    variable= b\n",
       "    kind= None\n",
       "  ),\n",
       "  InteractionTerm(\n",
       "    name= a:b\n",
       "    variables= {'b', 'a'}\n",
       "  ),\n",
       "  Term(\n",
       "    name= c\n",
       "    variable= c\n",
       "    kind= None\n",
       "  ),\n",
       "  Term(\n",
       "    name= d\n",
       "    variable= d\n",
       "    kind= None\n",
       "  ),\n",
       "  InteractionTerm(\n",
       "    name= c:d\n",
       "    variables= {'d', 'c'}\n",
       "  )\n",
       ")"
      ]
     },
     "metadata": {},
     "execution_count": 11
    }
   ],
   "source": [
    "fm.model_description('y ~ 0 + a*b + c*d')"
   ]
  },
  {
   "source": [
    "### `/` operator\n",
    "\n",
    "The behavior of this operator has a special case we'll see below when using grouped terms."
   ],
   "cell_type": "markdown",
   "metadata": {}
  },
  {
   "cell_type": "code",
   "execution_count": 12,
   "metadata": {},
   "outputs": [
    {
     "output_type": "execute_result",
     "data": {
      "text/plain": [
       "ModelTerms(\n",
       "  ResponseTerm(\n",
       "    Term(\n",
       "      name= y\n",
       "      variable= y\n",
       "      kind= None\n",
       "    )\n",
       "  ),\n",
       "  Term(\n",
       "    name= a\n",
       "    variable= a\n",
       "    kind= None\n",
       "  ),\n",
       "  InteractionTerm(\n",
       "    name= a:b\n",
       "    variables= {'b', 'a'}\n",
       "  ),\n",
       "  Term(\n",
       "    name= c\n",
       "    variable= c\n",
       "    kind= None\n",
       "  ),\n",
       "  InteractionTerm(\n",
       "    name= c:d\n",
       "    variables= {'d', 'c'}\n",
       "  )\n",
       ")"
      ]
     },
     "metadata": {},
     "execution_count": 12
    }
   ],
   "source": [
    "fm.model_description('y ~ 0 + a/b + c/d')"
   ]
  },
  {
   "source": [
    "## Power operator\n",
    "\n",
    "This operator can be used with a single term, which returns the term unchanged and with a set of terms, which computes interactions between terms in the set up to order `n`, which must always be positive integer."
   ],
   "cell_type": "markdown",
   "metadata": {}
  },
  {
   "cell_type": "code",
   "execution_count": 13,
   "metadata": {},
   "outputs": [
    {
     "output_type": "execute_result",
     "data": {
      "text/plain": [
       "ModelTerms(\n",
       "  InterceptTerm(),\n",
       "  Term(\n",
       "    name= a\n",
       "    variable= a\n",
       "    kind= None\n",
       "  )\n",
       ")"
      ]
     },
     "metadata": {},
     "execution_count": 13
    }
   ],
   "source": [
    "fm.model_description('a**3')"
   ]
  },
  {
   "cell_type": "code",
   "execution_count": 14,
   "metadata": {},
   "outputs": [
    {
     "output_type": "execute_result",
     "data": {
      "text/plain": [
       "ModelTerms(\n",
       "  InterceptTerm(),\n",
       "  Term(\n",
       "    name= a\n",
       "    variable= a\n",
       "    kind= None\n",
       "  ),\n",
       "  Term(\n",
       "    name= b\n",
       "    variable= b\n",
       "    kind= None\n",
       "  ),\n",
       "  Term(\n",
       "    name= c\n",
       "    variable= c\n",
       "    kind= None\n",
       "  ),\n",
       "  InteractionTerm(\n",
       "    name= a:b\n",
       "    variables= {'b', 'a'}\n",
       "  ),\n",
       "  InteractionTerm(\n",
       "    name= a:c\n",
       "    variables= {'c', 'a'}\n",
       "  ),\n",
       "  InteractionTerm(\n",
       "    name= b:c\n",
       "    variables= {'b', 'c'}\n",
       "  ),\n",
       "  InteractionTerm(\n",
       "    name= a:b:c\n",
       "    variables= {'b', 'c', 'a'}\n",
       "  )\n",
       ")"
      ]
     },
     "metadata": {},
     "execution_count": 14
    }
   ],
   "source": [
    "fm.model_description('(a + b + c)**3')"
   ]
  },
  {
   "source": [
    "## Function calls\n",
    "\n",
    "`formulae` detects when you want to transform one of the terms using a function. Currently, it just returns an object of class `CallTerm` which has the name of the function to be called and the arguments passed and it does not check whether the arguments are proper Python code. This is going to happen when we send the code to the Python interpreter. The `special` attribute is not used yet."
   ],
   "cell_type": "markdown",
   "metadata": {}
  },
  {
   "cell_type": "code",
   "execution_count": 15,
   "metadata": {},
   "outputs": [
    {
     "output_type": "execute_result",
     "data": {
      "text/plain": [
       "ModelTerms(\n",
       "  ResponseTerm(\n",
       "    Term(\n",
       "      name= y\n",
       "      variable= y\n",
       "      kind= None\n",
       "    )\n",
       "  ),\n",
       "  InterceptTerm(),\n",
       "  CallTerm(\n",
       "    call=center(x),\n",
       "    args=[Variable(name=x)],\n",
       "    special=False\n",
       "  ),\n",
       "  Term(\n",
       "    name= d\n",
       "    variable= d\n",
       "    kind= None\n",
       "  )\n",
       ")"
      ]
     },
     "metadata": {},
     "execution_count": 15
    }
   ],
   "source": [
    "fm.model_description('y ~ center(x) + d')"
   ]
  },
  {
   "source": [
    "You can also have calls on the left side of the formula. Of course, function names will have to be bound to a value for calls to work. \n",
    "Note: the response term is not printed as a CallTerm but it is a call term."
   ],
   "cell_type": "markdown",
   "metadata": {}
  },
  {
   "cell_type": "code",
   "execution_count": 16,
   "metadata": {},
   "outputs": [
    {
     "output_type": "execute_result",
     "data": {
      "text/plain": [
       "ModelTerms(\n",
       "  ResponseTerm(\n",
       "    CallTerm(\n",
       "      call=np.log(y),\n",
       "      args=[Variable(name=y)],\n",
       "      special=False\n",
       "    )\n",
       "  ),\n",
       "  InterceptTerm(),\n",
       "  CallTerm(\n",
       "    call=center(x),\n",
       "    args=[Variable(name=x)],\n",
       "    special=False\n",
       "  ),\n",
       "  Term(\n",
       "    name= d\n",
       "    variable= d\n",
       "    kind= None\n",
       "  )\n",
       ")"
      ]
     },
     "metadata": {},
     "execution_count": 16
    }
   ],
   "source": [
    "fm.model_description('np.log(y) ~ center(x) + d')"
   ]
  },
  {
   "source": [
    "## Some examples to see associativity rules"
   ],
   "cell_type": "markdown",
   "metadata": {}
  },
  {
   "cell_type": "code",
   "execution_count": 17,
   "metadata": {},
   "outputs": [
    {
     "output_type": "execute_result",
     "data": {
      "text/plain": [
       "ModelTerms(\n",
       "  ResponseTerm(\n",
       "    Term(\n",
       "      name= y\n",
       "      variable= y\n",
       "      kind= None\n",
       "    )\n",
       "  ),\n",
       "  InterceptTerm(),\n",
       "  Term(\n",
       "    name= a\n",
       "    variable= a\n",
       "    kind= None\n",
       "  ),\n",
       "  Term(\n",
       "    name= b\n",
       "    variable= b\n",
       "    kind= None\n",
       "  ),\n",
       "  Term(\n",
       "    name= c\n",
       "    variable= c\n",
       "    kind= None\n",
       "  ),\n",
       "  InteractionTerm(\n",
       "    name= a:b\n",
       "    variables= {'b', 'a'}\n",
       "  ),\n",
       "  InteractionTerm(\n",
       "    name= a:c\n",
       "    variables= {'c', 'a'}\n",
       "  )\n",
       ")"
      ]
     },
     "metadata": {},
     "execution_count": 17
    }
   ],
   "source": [
    "fm.model_description('y ~ a * (b + c)')"
   ]
  },
  {
   "cell_type": "code",
   "execution_count": 18,
   "metadata": {},
   "outputs": [
    {
     "output_type": "execute_result",
     "data": {
      "text/plain": [
       "ModelTerms(\n",
       "  ResponseTerm(\n",
       "    Term(\n",
       "      name= y\n",
       "      variable= y\n",
       "      kind= None\n",
       "    )\n",
       "  ),\n",
       "  InterceptTerm(),\n",
       "  Term(\n",
       "    name= a\n",
       "    variable= a\n",
       "    kind= None\n",
       "  ),\n",
       "  Term(\n",
       "    name= b\n",
       "    variable= b\n",
       "    kind= None\n",
       "  ),\n",
       "  Term(\n",
       "    name= c\n",
       "    variable= c\n",
       "    kind= None\n",
       "  ),\n",
       "  Term(\n",
       "    name= d\n",
       "    variable= d\n",
       "    kind= None\n",
       "  ),\n",
       "  InteractionTerm(\n",
       "    name= a:c\n",
       "    variables= {'c', 'a'}\n",
       "  ),\n",
       "  InteractionTerm(\n",
       "    name= a:d\n",
       "    variables= {'d', 'a'}\n",
       "  ),\n",
       "  InteractionTerm(\n",
       "    name= b:c\n",
       "    variables= {'b', 'c'}\n",
       "  ),\n",
       "  InteractionTerm(\n",
       "    name= b:d\n",
       "    variables= {'b', 'd'}\n",
       "  )\n",
       ")"
      ]
     },
     "metadata": {},
     "execution_count": 18
    }
   ],
   "source": [
    "fm.model_description('y ~ (a+b)*(c+d)')"
   ]
  },
  {
   "source": [
    "See the following about the `/` operator  \n",
    "\n",
    "`a / (b + c)` is equivalent to `a + a:b + a:c`"
   ],
   "cell_type": "markdown",
   "metadata": {}
  },
  {
   "cell_type": "code",
   "execution_count": 19,
   "metadata": {},
   "outputs": [
    {
     "output_type": "execute_result",
     "data": {
      "text/plain": [
       "ModelTerms(\n",
       "  ResponseTerm(\n",
       "    Term(\n",
       "      name= y\n",
       "      variable= y\n",
       "      kind= None\n",
       "    )\n",
       "  ),\n",
       "  InterceptTerm(),\n",
       "  Term(\n",
       "    name= a\n",
       "    variable= a\n",
       "    kind= None\n",
       "  ),\n",
       "  InteractionTerm(\n",
       "    name= a:b\n",
       "    variables= {'b', 'a'}\n",
       "  ),\n",
       "  InteractionTerm(\n",
       "    name= a:c\n",
       "    variables= {'c', 'a'}\n",
       "  )\n",
       ")"
      ]
     },
     "metadata": {},
     "execution_count": 19
    }
   ],
   "source": [
    "fm.model_description('y ~ a / (b+c)')"
   ]
  },
  {
   "source": [
    "but `(a + b) / c` is not equivalent to `a + a:c + b + b:c`, i.e. `/` is not leftward distributive over `+`. In [this](https://patsy.readthedocs.io/en/latest/formulas.html) Patsy doc you have an explanation of it (nested terms and S/R conventions)."
   ],
   "cell_type": "markdown",
   "metadata": {}
  },
  {
   "cell_type": "code",
   "execution_count": 20,
   "metadata": {},
   "outputs": [
    {
     "output_type": "execute_result",
     "data": {
      "text/plain": [
       "ModelTerms(\n",
       "  ResponseTerm(\n",
       "    Term(\n",
       "      name= y\n",
       "      variable= y\n",
       "      kind= None\n",
       "    )\n",
       "  ),\n",
       "  InterceptTerm(),\n",
       "  Term(\n",
       "    name= a\n",
       "    variable= a\n",
       "    kind= None\n",
       "  ),\n",
       "  Term(\n",
       "    name= b\n",
       "    variable= b\n",
       "    kind= None\n",
       "  ),\n",
       "  InteractionTerm(\n",
       "    name= a:b:c\n",
       "    variables= {'b', 'c', 'a'}\n",
       "  )\n",
       ")"
      ]
     },
     "metadata": {},
     "execution_count": 20
    }
   ],
   "source": [
    "fm.model_description('y ~ (a + b) / c')"
   ]
  },
  {
   "cell_type": "code",
   "execution_count": 21,
   "metadata": {},
   "outputs": [
    {
     "output_type": "execute_result",
     "data": {
      "text/plain": [
       "ModelTerms(\n",
       "  InterceptTerm(),\n",
       "  Term(\n",
       "    name= x\n",
       "    variable= x\n",
       "    kind= None\n",
       "  ),\n",
       "  Term(\n",
       "    name= y\n",
       "    variable= y\n",
       "    kind= None\n",
       "  ),\n",
       "  Term(\n",
       "    name= u\n",
       "    variable= u\n",
       "    kind= None\n",
       "  ),\n",
       "  InteractionTerm(\n",
       "    name= x:u\n",
       "    variables= {'u', 'x'}\n",
       "  ),\n",
       "  InteractionTerm(\n",
       "    name= y:u\n",
       "    variables= {'u', 'y'}\n",
       "  ),\n",
       "  Term(\n",
       "    name= v\n",
       "    variable= v\n",
       "    kind= None\n",
       "  ),\n",
       "  InteractionTerm(\n",
       "    name= x:v\n",
       "    variables= {'v', 'x'}\n",
       "  ),\n",
       "  InteractionTerm(\n",
       "    name= y:v\n",
       "    variables= {'v', 'y'}\n",
       "  ),\n",
       "  InteractionTerm(\n",
       "    name= u:v\n",
       "    variables= {'u', 'v'}\n",
       "  ),\n",
       "  InteractionTerm(\n",
       "    name= x:u:v\n",
       "    variables= {'u', 'v', 'x'}\n",
       "  ),\n",
       "  InteractionTerm(\n",
       "    name= y:u:v\n",
       "    variables= {'v', 'u', 'y'}\n",
       "  )\n",
       ")"
      ]
     },
     "metadata": {},
     "execution_count": 21
    }
   ],
   "source": [
    "fm.model_description(\"(x + y) * u * v\")"
   ]
  },
  {
   "source": [
    "## Some group level effects specifications"
   ],
   "cell_type": "markdown",
   "metadata": {}
  },
  {
   "cell_type": "code",
   "execution_count": 22,
   "metadata": {},
   "outputs": [
    {
     "output_type": "execute_result",
     "data": {
      "text/plain": [
       "ModelTerms(\n",
       "  ResponseTerm(\n",
       "    Term(\n",
       "      name= y\n",
       "      variable= y\n",
       "      kind= None\n",
       "    )\n",
       "  ),\n",
       "  InterceptTerm(),\n",
       "  Term(\n",
       "    name= a\n",
       "    variable= a\n",
       "    kind= None\n",
       "  ),\n",
       "  Term(\n",
       "    name= b\n",
       "    variable= b\n",
       "    kind= None\n",
       "  ),\n",
       "  GroupSpecTerm(\n",
       "    expr= Term(\n",
       "      name= a\n",
       "      variable= a\n",
       "      kind= None\n",
       "    ),\n",
       "    factor= Term(\n",
       "      name= g\n",
       "      variable= g\n",
       "      kind= None\n",
       "    )\n",
       "  ),\n",
       "  GroupSpecTerm(\n",
       "    expr= InterceptTerm(),\n",
       "    factor= Term(\n",
       "      name= g\n",
       "      variable= g\n",
       "      kind= None\n",
       "    )\n",
       "  ),\n",
       "  GroupSpecTerm(\n",
       "    expr= Term(\n",
       "      name= b\n",
       "      variable= b\n",
       "      kind= None\n",
       "    ),\n",
       "    factor= Term(\n",
       "      name= g\n",
       "      variable= g\n",
       "      kind= None\n",
       "    )\n",
       "  )\n",
       ")"
      ]
     },
     "metadata": {},
     "execution_count": 22
    }
   ],
   "source": [
    "fm.model_description(\"y ~ a + b + (0 + a | g) + (b | g)\")"
   ]
  },
  {
   "source": [
    "`(x1 + x2 + x3) ** 2` computes all the pairwise interactions between the terms between parenthesis. We then remove `x2:x3` and `x1`."
   ],
   "cell_type": "markdown",
   "metadata": {}
  },
  {
   "cell_type": "code",
   "execution_count": 23,
   "metadata": {},
   "outputs": [
    {
     "output_type": "execute_result",
     "data": {
      "text/plain": [
       "ModelTerms(\n",
       "  ResponseTerm(\n",
       "    CallTerm(\n",
       "      call=np.sqrt(y),\n",
       "      args=[Variable(name=y)],\n",
       "      special=False\n",
       "    )\n",
       "  ),\n",
       "  Term(\n",
       "    name= x2\n",
       "    variable= x2\n",
       "    kind= None\n",
       "  ),\n",
       "  Term(\n",
       "    name= x3\n",
       "    variable= x3\n",
       "    kind= None\n",
       "  ),\n",
       "  InteractionTerm(\n",
       "    name= x1:x2\n",
       "    variables= {'x1', 'x2'}\n",
       "  ),\n",
       "  InteractionTerm(\n",
       "    name= x1:x3\n",
       "    variables= {'x1', 'x3'}\n",
       "  )\n",
       ")"
      ]
     },
     "metadata": {},
     "execution_count": 23
    }
   ],
   "source": [
    "fm.model_description(\"np.sqrt(y) ~ -1 + (x1 + x2 + x3) ** 2 - x2:x3 - x1\")"
   ]
  },
  {
   "source": [
    "# Design matrices generation"
   ],
   "cell_type": "markdown",
   "metadata": {}
  },
  {
   "cell_type": "code",
   "execution_count": 34,
   "metadata": {},
   "outputs": [],
   "source": [
    "SIZE = 20\n",
    "CNT = 20\n",
    "data = pd.DataFrame(\n",
    "    {\n",
    "        'x': np.random.normal(size=SIZE), \n",
    "        'y': np.random.normal(size=SIZE),\n",
    "        '$2#abc': np.random.normal(size=SIZE),\n",
    "        'CNT': np.random.normal(size=SIZE),\n",
    "        'g1': np.random.choice(['a', 'b', 'c'], SIZE)\n",
    "    }\n",
    ")\n",
    "design = fm.DesignMatrices(fm.model_description('y ~ `$2#abc` + (x|g1)'), data)"
   ]
  },
  {
   "cell_type": "code",
   "execution_count": 41,
   "metadata": {},
   "outputs": [
    {
     "output_type": "stream",
     "name": "stdout",
     "text": [
      "ResponseVector(name=y, type=numeric, length=20)\n[[ 1.43990198e+00]\n [ 1.52476515e+00]\n [-1.20099684e+00]\n [-7.05911078e-01]\n [ 1.61912403e-03]\n [-5.87098603e-01]\n [ 1.15502957e-01]\n [-5.04145509e-01]\n [-8.88471650e-01]\n [-8.34907194e-01]\n [-1.20957507e+00]\n [-1.02682597e+00]\n [-5.67215407e-01]\n [ 9.93320501e-01]\n [ 7.66075763e-02]\n [-2.55276398e-01]\n [ 3.37342846e-01]\n [-4.51065033e-01]\n [-1.43073025e+00]\n [ 1.66726462e+00]]\n"
     ]
    }
   ],
   "source": [
    "print(design.response)\n",
    "print(design.response.data)"
   ]
  },
  {
   "cell_type": "code",
   "execution_count": 35,
   "metadata": {},
   "outputs": [
    {
     "output_type": "stream",
     "name": "stdout",
     "text": [
      "CommonEffectsMatrix(\n  shape: (20, 2),\n  terms: {\n    'Intercept': {type=Intercept, cols=slice(0, 1, None)},\n    '`$2#abc`': {type=numeric, cols=slice(1, 2, None)}\n  }\n)\n[[ 1.          0.20662161]\n [ 1.         -0.38074855]\n [ 1.         -0.49430749]\n [ 1.         -2.24054962]\n [ 1.         -0.33521666]\n [ 1.          1.46114368]\n [ 1.         -0.18557974]\n [ 1.          1.21808419]\n [ 1.          1.53332254]\n [ 1.         -0.82192667]\n [ 1.          0.20390072]\n [ 1.          0.31479258]\n [ 1.          0.56620406]\n [ 1.          2.41882768]\n [ 1.         -0.38081583]\n [ 1.         -0.21917942]\n [ 1.         -0.81476539]\n [ 1.         -1.28067672]\n [ 1.          0.98928542]\n [ 1.          0.18078233]]\n"
     ]
    }
   ],
   "source": [
    "print(design.common)\n",
    "print(design.common.design_matrix)"
   ]
  },
  {
   "cell_type": "code",
   "execution_count": 36,
   "metadata": {},
   "outputs": [
    {
     "output_type": "stream",
     "name": "stdout",
     "text": [
      "[[ 0.20662161]\n [-0.38074855]\n [-0.49430749]\n [-2.24054962]\n [-0.33521666]\n [ 1.46114368]\n [-0.18557974]\n [ 1.21808419]\n [ 1.53332254]\n [-0.82192667]\n [ 0.20390072]\n [ 0.31479258]\n [ 0.56620406]\n [ 2.41882768]\n [-0.38081583]\n [-0.21917942]\n [-0.81476539]\n [-1.28067672]\n [ 0.98928542]\n [ 0.18078233]]\n"
     ]
    }
   ],
   "source": [
    "print(design.common['`$2#abc`'])"
   ]
  },
  {
   "cell_type": "code",
   "execution_count": 37,
   "metadata": {},
   "outputs": [
    {
     "output_type": "stream",
     "name": "stdout",
     "text": [
      "GroupEffectsMatrix(\n  shape: (40, 6),\n  terms: {\n    '1|g1': {type=Intercept, idxs=(slice(0, 20, None), slice(0, 3, None))},\n    'x|g1': {type=numeric, idxs=(slice(20, 40, None), slice(3, 6, None))}\n  }\n)\n[[ 0.          1.          0.          0.          0.          0.        ]\n [ 0.          1.          0.          0.          0.          0.        ]\n [ 0.          0.          1.          0.          0.          0.        ]\n [ 0.          1.          0.          0.          0.          0.        ]\n [ 1.          0.          0.          0.          0.          0.        ]\n [ 0.          1.          0.          0.          0.          0.        ]\n [ 1.          0.          0.          0.          0.          0.        ]\n [ 0.          1.          0.          0.          0.          0.        ]\n [ 0.          0.          1.          0.          0.          0.        ]\n [ 0.          1.          0.          0.          0.          0.        ]\n [ 1.          0.          0.          0.          0.          0.        ]\n [ 0.          1.          0.          0.          0.          0.        ]\n [ 0.          1.          0.          0.          0.          0.        ]\n [ 0.          1.          0.          0.          0.          0.        ]\n [ 1.          0.          0.          0.          0.          0.        ]\n [ 0.          0.          1.          0.          0.          0.        ]\n [ 0.          0.          1.          0.          0.          0.        ]\n [ 0.          1.          0.          0.          0.          0.        ]\n [ 1.          0.          0.          0.          0.          0.        ]\n [ 0.          1.          0.          0.          0.          0.        ]\n [ 0.          0.          0.          0.         -0.11927643  0.        ]\n [ 0.          0.          0.          0.         -1.80876628  0.        ]\n [ 0.          0.          0.          0.          0.          0.76631236]\n [ 0.          0.          0.          0.          1.77083046  0.        ]\n [ 0.          0.          0.         -0.68457716  0.          0.        ]\n [ 0.          0.          0.          0.          1.23639308  0.        ]\n [ 0.          0.          0.         -0.02794953  0.          0.        ]\n [ 0.          0.          0.          0.         -2.95831015  0.        ]\n [ 0.          0.          0.          0.          0.         -0.26344302]\n [ 0.          0.          0.          0.         -2.09224843  0.        ]\n [ 0.          0.          0.         -0.59792571  0.          0.        ]\n [ 0.          0.          0.          0.          0.6719483   0.        ]\n [ 0.          0.          0.          0.         -0.686515    0.        ]\n [ 0.          0.          0.          0.          0.70030419  0.        ]\n [ 0.          0.          0.          0.2257277   0.          0.        ]\n [ 0.          0.          0.          0.          0.         -0.58829482]\n [ 0.          0.          0.          0.          0.         -0.19911498]\n [ 0.          0.          0.          0.          1.53781735  0.        ]\n [ 0.          0.          0.         -0.47609274  0.          0.        ]\n [ 0.          0.          0.          0.         -1.72929753  0.        ]]\n"
     ]
    }
   ],
   "source": [
    "print(design.group)\n",
    "print(design.group.design_matrix)"
   ]
  },
  {
   "cell_type": "code",
   "execution_count": 39,
   "metadata": {},
   "outputs": [
    {
     "output_type": "stream",
     "name": "stdout",
     "text": [
      "[[ 0.         -0.11927643  0.        ]\n [ 0.         -1.80876628  0.        ]\n [ 0.          0.          0.76631236]\n [ 0.          1.77083046  0.        ]\n [-0.68457716  0.          0.        ]\n [ 0.          1.23639308  0.        ]\n [-0.02794953  0.          0.        ]\n [ 0.         -2.95831015  0.        ]\n [ 0.          0.         -0.26344302]\n [ 0.         -2.09224843  0.        ]\n [-0.59792571  0.          0.        ]\n [ 0.          0.6719483   0.        ]\n [ 0.         -0.686515    0.        ]\n [ 0.          0.70030419  0.        ]\n [ 0.2257277   0.          0.        ]\n [ 0.          0.         -0.58829482]\n [ 0.          0.         -0.19911498]\n [ 0.          1.53781735  0.        ]\n [-0.47609274  0.          0.        ]\n [ 0.         -1.72929753  0.        ]]\n"
     ]
    }
   ],
   "source": [
    "print(design.group['x|g1'])"
   ]
  },
  {
   "source": [
    "## Reference class example"
   ],
   "cell_type": "markdown",
   "metadata": {}
  },
  {
   "cell_type": "code",
   "execution_count": 28,
   "metadata": {},
   "outputs": [
    {
     "output_type": "execute_result",
     "data": {
      "text/plain": [
       "ResponseVector(name=g1, type=categoric, length=20, refclass=a)"
      ]
     },
     "metadata": {},
     "execution_count": 28
    }
   ],
   "source": [
    "design = fm.DesignMatrices(fm.model_description('g1[a] ~ x + y'), data)\n",
    "design.response"
   ]
  }
 ],
 "metadata": {
  "kernelspec": {
   "display_name": "formulae",
   "language": "python",
   "name": "formulae"
  },
  "language_info": {
   "codemirror_mode": {
    "name": "ipython",
    "version": 3
   },
   "file_extension": ".py",
   "mimetype": "text/x-python",
   "name": "python",
   "nbconvert_exporter": "python",
   "pygments_lexer": "ipython3",
   "version": "3.8.5-final"
  }
 },
 "nbformat": 4,
 "nbformat_minor": 4
}