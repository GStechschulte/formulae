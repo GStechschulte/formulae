{
 "cells": [
  {
   "source": [
    "# Model description features"
   ],
   "cell_type": "markdown",
   "metadata": {}
  },
  {
   "cell_type": "code",
   "execution_count": 1,
   "metadata": {},
   "outputs": [],
   "source": [
    "import formulae as fm"
   ]
  },
  {
   "source": [
    "## Implicit intercept"
   ],
   "cell_type": "markdown",
   "metadata": {}
  },
  {
   "cell_type": "code",
   "execution_count": 2,
   "metadata": {},
   "outputs": [
    {
     "output_type": "execute_result",
     "data": {
      "text/plain": [
       "ModelTerms(\n",
       "  ResponseTerm(\n",
       "    y\n",
       "  ),\n",
       "  InterceptTerm(),\n",
       "  Term(\n",
       "    name= x\n",
       "    variable= x\n",
       "    kind= None\n",
       "  )\n",
       ")"
      ]
     },
     "metadata": {},
     "execution_count": 2
    }
   ],
   "source": [
    "fm.model_description('y ~ x')"
   ]
  }
 ],
 "metadata": {
  "kernelspec": {
   "display_name": "formulae",
   "language": "python",
   "name": "formulae"
  },
  "language_info": {
   "codemirror_mode": {
    "name": "ipython",
    "version": 3
   },
   "file_extension": ".py",
   "mimetype": "text/x-python",
   "name": "python",
   "nbconvert_exporter": "python",
   "pygments_lexer": "ipython3",
   "version": "3.8.5-final"
  }
 },
 "nbformat": 4,
 "nbformat_minor": 4
}