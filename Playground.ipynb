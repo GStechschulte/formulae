{
 "cells": [
  {
   "cell_type": "code",
   "execution_count": 1,
   "metadata": {},
   "outputs": [],
   "source": [
    "# TODO: Special treatment to 0 and 1 in formula.\n",
    "# TODO: Compare terms to ensure each term appears only once in ModelFormula"
   ]
  },
  {
   "cell_type": "code",
   "execution_count": 2,
   "metadata": {},
   "outputs": [],
   "source": [
    "import formulae as fm\n",
    "import pandas as pd\n",
    "import numpy as np\n",
    "\n",
    "def parse(code):\n",
    "    return fm.Parser(fm.Scanner(code).scan_tokens()).parse()"
   ]
  },
  {
   "cell_type": "markdown",
   "metadata": {},
   "source": [
    "## Check precedence"
   ]
  },
  {
   "cell_type": "markdown",
   "metadata": {},
   "source": [
    "### Sum and product"
   ]
  },
  {
   "cell_type": "code",
   "execution_count": 3,
   "metadata": {},
   "outputs": [
    {
     "name": "stdout",
     "output_type": "stream",
     "text": [
      "Binary(\n",
      "  left=Variable(x),\n",
      "  op=+,\n",
      "  right=Binary(\n",
      "    left=Variable(y),\n",
      "    op=*,\n",
      "    right=Variable(z)\n",
      "  )\n",
      ")\n",
      "Binary(\n",
      "  left=Binary(\n",
      "    left=Variable(x),\n",
      "    op=*,\n",
      "    right=Variable(y)\n",
      "  ),\n",
      "  op=+,\n",
      "  right=Variable(z)\n",
      ")\n"
     ]
    }
   ],
   "source": [
    "print(parse(\"x + y * z\"))\n",
    "print(parse(\"x * y + z\"))"
   ]
  },
  {
   "cell_type": "markdown",
   "metadata": {},
   "source": [
    "### Sum, product, interaction"
   ]
  },
  {
   "cell_type": "code",
   "execution_count": 4,
   "metadata": {},
   "outputs": [
    {
     "name": "stdout",
     "output_type": "stream",
     "text": [
      "Binary(\n",
      "  left=Variable(x),\n",
      "  op=+,\n",
      "  right=Binary(\n",
      "    left=Binary(\n",
      "      left=Variable(y),\n",
      "      op=:,\n",
      "      right=Variable(z)\n",
      "    ),\n",
      "    op=*,\n",
      "    right=Variable(y)\n",
      "  )\n",
      ")\n",
      "Binary(\n",
      "  left=Binary(\n",
      "    left=Variable(x),\n",
      "    op=:,\n",
      "    right=Variable(y)\n",
      "  ),\n",
      "  op=+,\n",
      "  right=Binary(\n",
      "    left=Variable(z),\n",
      "    op=*,\n",
      "    right=Variable(y)\n",
      "  )\n",
      ")\n"
     ]
    }
   ],
   "source": [
    "print(parse(\"x + y : z * y\"))\n",
    "print(parse(\"x : y + z * y\"))"
   ]
  },
  {
   "cell_type": "markdown",
   "metadata": {},
   "source": [
    "### Power interaction"
   ]
  },
  {
   "cell_type": "code",
   "execution_count": 5,
   "metadata": {},
   "outputs": [
    {
     "name": "stdout",
     "output_type": "stream",
     "text": [
      "Binary(\n",
      "  left=Binary(\n",
      "    left=Variable(x),\n",
      "    op=**,\n",
      "    right=Variable(y)\n",
      "  ),\n",
      "  op=:,\n",
      "  right=Variable(z)\n",
      ")\n",
      "Binary(\n",
      "  left=Variable(y),\n",
      "  op=:,\n",
      "  right=Binary(\n",
      "    left=Variable(z),\n",
      "    op=**,\n",
      "    right=Literal(5)\n",
      "  )\n",
      ")\n"
     ]
    }
   ],
   "source": [
    "print(parse(\"x ** y : z\"))\n",
    "print(parse(\"y : z ** 5\"))"
   ]
  },
  {
   "cell_type": "code",
   "execution_count": 6,
   "metadata": {},
   "outputs": [
    {
     "data": {
      "text/plain": [
       "Unary(\n",
       "  op=+, right=Literal(1)\n",
       ")"
      ]
     },
     "execution_count": 6,
     "metadata": {},
     "output_type": "execute_result"
    }
   ],
   "source": [
    "parse(\"+1\")"
   ]
  },
  {
   "cell_type": "code",
   "execution_count": 7,
   "metadata": {},
   "outputs": [
    {
     "data": {
      "text/plain": [
       "[{'type': PLUS, 'lexeme': +, 'literal': None},\n",
       " {'type': NUMBER, 'lexeme': 1, 'literal': 1},\n",
       " {'type': RIGHT_PAREN, 'lexeme': ), 'literal': None},\n",
       " {'type': EOF, 'lexeme': , 'literal': None}]"
      ]
     },
     "execution_count": 7,
     "metadata": {},
     "output_type": "execute_result"
    }
   ],
   "source": [
    "fm.Scanner('+1)').scan_tokens()"
   ]
  },
  {
   "cell_type": "code",
   "execution_count": 8,
   "metadata": {},
   "outputs": [
    {
     "data": {
      "text/plain": [
       "Term(\n",
       "  name= x\n",
       "  variable= x\n",
       "  kind= None\n",
       "  data= None\n",
       ")"
      ]
     },
     "execution_count": 8,
     "metadata": {},
     "output_type": "execute_result"
    }
   ],
   "source": [
    "fm.Resolver(parse(\"x\")).resolve()"
   ]
  },
  {
   "cell_type": "code",
   "execution_count": 9,
   "metadata": {},
   "outputs": [
    {
     "data": {
      "text/plain": [
       "ModelTerms(\n",
       "  Term(\n",
       "    name= y\n",
       "    variable= y\n",
       "    kind= None\n",
       "    data= None\n",
       "  ),\n",
       "  Term(\n",
       "    name= x\n",
       "    variable= x\n",
       "    kind= None\n",
       "    data= None\n",
       "  )\n",
       ")"
      ]
     },
     "execution_count": 9,
     "metadata": {},
     "output_type": "execute_result"
    }
   ],
   "source": [
    "fm.Resolver(parse(\"x + y\")).resolve()"
   ]
  },
  {
   "cell_type": "code",
   "execution_count": 10,
   "metadata": {},
   "outputs": [
    {
     "data": {
      "text/plain": [
       "ModelTerms(\n",
       "  Term(\n",
       "    name= x\n",
       "    variable= x\n",
       "    kind= None\n",
       "    data= None\n",
       "  )\n",
       ")"
      ]
     },
     "execution_count": 10,
     "metadata": {},
     "output_type": "execute_result"
    }
   ],
   "source": [
    "fm.Resolver(parse(\"x + z - z\")).resolve()"
   ]
  },
  {
   "cell_type": "code",
   "execution_count": 11,
   "metadata": {},
   "outputs": [
    {
     "data": {
      "text/plain": [
       "ModelTerms(\n",
       "  Term(\n",
       "    name= z\n",
       "    variable= z\n",
       "    kind= None\n",
       "    data= None\n",
       "  ),\n",
       "  Term(\n",
       "    name= x\n",
       "    variable= x\n",
       "    kind= None\n",
       "    data= None\n",
       "  ),\n",
       "  Term(\n",
       "    name= m\n",
       "    variable= m\n",
       "    kind= None\n",
       "    data= None\n",
       "  )\n",
       ")"
      ]
     },
     "execution_count": 11,
     "metadata": {},
     "output_type": "execute_result"
    }
   ],
   "source": [
    "fm.Resolver(parse(\"x + z - y + m\")).resolve()"
   ]
  },
  {
   "cell_type": "code",
   "execution_count": 12,
   "metadata": {},
   "outputs": [
    {
     "data": {
      "text/plain": [
       "ModelTerms(\n",
       "  ResponseTerm(\n",
       "    name= y\n",
       "    variable= y\n",
       "    kind= None\n",
       "    data= None\n",
       "  ),\n",
       "  Term(\n",
       "    name= b\n",
       "    variable= b\n",
       "    kind= None\n",
       "    data= None\n",
       "  ),\n",
       "  Term(\n",
       "    name= a\n",
       "    variable= a\n",
       "    kind= None\n",
       "    data= None\n",
       "  )\n",
       ")"
      ]
     },
     "execution_count": 12,
     "metadata": {},
     "output_type": "execute_result"
    }
   ],
   "source": [
    "fm.Resolver(parse(\"y ~ a + b\")).resolve()"
   ]
  },
  {
   "cell_type": "code",
   "execution_count": 13,
   "metadata": {},
   "outputs": [
    {
     "data": {
      "text/plain": [
       "ModelTerms(\n",
       "  ResponseTerm(\n",
       "    name= y\n",
       "    variable= y\n",
       "    kind= None\n",
       "    data= None\n",
       "  ),\n",
       "  Term(\n",
       "    name= c\n",
       "    variable= c\n",
       "    kind= None\n",
       "    data= None\n",
       "  ),\n",
       "  Term(\n",
       "    name= b\n",
       "    variable= b\n",
       "    kind= None\n",
       "    data= None\n",
       "  ),\n",
       "  InteractionTerm(\n",
       "    name= a:b\n",
       "    variables= {'a', 'b'}\n",
       "  ),\n",
       "  Term(\n",
       "    name= a\n",
       "    variable= a\n",
       "    kind= None\n",
       "    data= None\n",
       "  ),\n",
       "  InteractionTerm(\n",
       "    name= a:b:c\n",
       "    variables= {'a', 'c', 'b'}\n",
       "  )\n",
       ")"
      ]
     },
     "execution_count": 13,
     "metadata": {},
     "output_type": "execute_result"
    }
   ],
   "source": [
    "fm.Resolver(parse(\"y ~ a + b + a:b + c + a:b + a:b:c\")).resolve()"
   ]
  },
  {
   "cell_type": "code",
   "execution_count": 14,
   "metadata": {},
   "outputs": [
    {
     "data": {
      "text/plain": [
       "Binary(\n",
       "  left=Variable(y),\n",
       "  op=~,\n",
       "  right=Binary(\n",
       "    left=Variable(a),\n",
       "    op=**,\n",
       "    right=Literal(5)\n",
       "  )\n",
       ")"
      ]
     },
     "execution_count": 14,
     "metadata": {},
     "output_type": "execute_result"
    }
   ],
   "source": [
    "parse(\"y ~ a ** 5\")"
   ]
  },
  {
   "cell_type": "code",
   "execution_count": 15,
   "metadata": {},
   "outputs": [
    {
     "data": {
      "text/plain": [
       "ModelTerms(\n",
       "  ResponseTerm(\n",
       "    name= y\n",
       "    variable= y\n",
       "    kind= None\n",
       "    data= None\n",
       "  ),\n",
       "  Term(\n",
       "    name= b\n",
       "    variable= b\n",
       "    kind= None\n",
       "    data= None\n",
       "  ),\n",
       "  Term(\n",
       "    name= a\n",
       "    variable= a\n",
       "    kind= None\n",
       "    data= None\n",
       "  ),\n",
       "  Term(\n",
       "    name= c\n",
       "    variable= c\n",
       "    kind= None\n",
       "    data= None\n",
       "  ),\n",
       "  InteractionTerm(\n",
       "    name= x:y\n",
       "    variables= {'x', 'y'}\n",
       "  )\n",
       ")"
      ]
     },
     "execution_count": 15,
     "metadata": {},
     "output_type": "execute_result"
    }
   ],
   "source": [
    "fm.Resolver(parse(\"y ~ a ** 3 + x:y + b + c\")).resolve()"
   ]
  },
  {
   "cell_type": "code",
   "execution_count": 16,
   "metadata": {},
   "outputs": [
    {
     "data": {
      "text/plain": [
       "ModelTerms(\n",
       "  ResponseTerm(\n",
       "    name= y\n",
       "    variable= y\n",
       "    kind= None\n",
       "    data= None\n",
       "  ),\n",
       "  InteractionTerm(\n",
       "    name= a:b\n",
       "    variables= {'a', 'b'}\n",
       "  ),\n",
       "  Term(\n",
       "    name= b\n",
       "    variable= b\n",
       "    kind= None\n",
       "    data= None\n",
       "  ),\n",
       "  Term(\n",
       "    name= a\n",
       "    variable= a\n",
       "    kind= None\n",
       "    data= None\n",
       "  )\n",
       ")"
      ]
     },
     "execution_count": 16,
     "metadata": {},
     "output_type": "execute_result"
    }
   ],
   "source": [
    "fm.Resolver(parse(\"y ~ a*b\")).resolve()"
   ]
  },
  {
   "cell_type": "code",
   "execution_count": 17,
   "metadata": {},
   "outputs": [
    {
     "data": {
      "text/plain": [
       "ModelTerms(\n",
       "  ResponseTerm(\n",
       "    name= y\n",
       "    variable= y\n",
       "    kind= None\n",
       "    data= None\n",
       "  ),\n",
       "  InteractionTerm(\n",
       "    name= a:b\n",
       "    variables= {'a', 'b'}\n",
       "  ),\n",
       "  Term(\n",
       "    name= b\n",
       "    variable= b\n",
       "    kind= None\n",
       "    data= None\n",
       "  ),\n",
       "  Term(\n",
       "    name= a\n",
       "    variable= a\n",
       "    kind= None\n",
       "    data= None\n",
       "  ),\n",
       "  Term(\n",
       "    name= c\n",
       "    variable= c\n",
       "    kind= None\n",
       "    data= None\n",
       "  )\n",
       ")"
      ]
     },
     "execution_count": 17,
     "metadata": {},
     "output_type": "execute_result"
    }
   ],
   "source": [
    "fm.Resolver(parse(\"y ~ a/b + b**3 + c:c:c\")).resolve()"
   ]
  },
  {
   "cell_type": "code",
   "execution_count": 18,
   "metadata": {},
   "outputs": [
    {
     "data": {
      "text/plain": [
       "0      0.409931\n",
       "1     -1.200646\n",
       "2      1.502854\n",
       "3      0.154682\n",
       "4      2.156952\n",
       "5    418.796134\n",
       "6      2.120067\n",
       "7     -2.201803\n",
       "8      0.011881\n",
       "9      1.449788\n",
       "dtype: float64"
      ]
     },
     "execution_count": 18,
     "metadata": {},
     "output_type": "execute_result"
    }
   ],
   "source": [
    "np.random.seed(1234)\n",
    "data = pd.DataFrame({\n",
    "    'x': np.random.normal(size=10),\n",
    "    'y': np.random.normal(size=10),\n",
    "    'z': np.random.normal(size=10)\n",
    "})\n",
    "fm.eval_in_data_mask('x / y', data=data, n=1)"
   ]
  }
 ],
 "metadata": {
  "kernelspec": {
   "display_name": "formulae",
   "language": "python",
   "name": "formulae"
  },
  "language_info": {
   "codemirror_mode": {
    "name": "ipython",
    "version": 3
   },
   "file_extension": ".py",
   "mimetype": "text/x-python",
   "name": "python",
   "nbconvert_exporter": "python",
   "pygments_lexer": "ipython3",
   "version": "3.8.5"
  }
 },
 "nbformat": 4,
 "nbformat_minor": 4
}
