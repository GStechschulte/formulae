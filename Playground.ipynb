{
 "cells": [
  {
   "cell_type": "code",
   "execution_count": 1,
   "metadata": {},
   "outputs": [],
   "source": [
    "# TODO: Add support for 'y ~ .' notation, which implies 'y ~ . -a' and 'y~ . -1' and 'y~ -1 + .' must also work.\n",
    "# TODO: Raise error when there's more than one '~'"
   ]
  },
  {
   "cell_type": "code",
   "execution_count": 2,
   "metadata": {},
   "outputs": [],
   "source": [
    "import formulae as fm\n",
    "import pandas as pd\n",
    "import numpy as np\n",
    "\n",
    "def scan(code):\n",
    "    return fm.Scanner(code).scan_tokens()\n",
    "    \n",
    "def parse(code):\n",
    "    return fm.Parser(scan(code)).parse()\n",
    "    \n",
    "def resolve(code):\n",
    "    return fm.Resolver(parse(code)).resolve()"
   ]
  },
  {
   "cell_type": "code",
   "execution_count": 3,
   "metadata": {},
   "outputs": [
    {
     "output_type": "execute_result",
     "data": {
      "text/plain": [
       "[{'type': IDENTIFIER, 'lexeme': x, 'literal': None},\n",
       " {'type': PLUS, 'lexeme': +, 'literal': None},\n",
       " {'type': IDENTIFIER, 'lexeme': fun, 'literal': None},\n",
       " {'type': CALLARGS, 'lexeme': (~x + 1), 'literal': None},\n",
       " {'type': PLUS, 'lexeme': +, 'literal': None},\n",
       " {'type': IDENTIFIER, 'lexeme': b, 'literal': None},\n",
       " {'type': PLUS, 'lexeme': +, 'literal': None},\n",
       " {'type': IDENTIFIER, 'lexeme': fun2, 'literal': None},\n",
       " {'type': CALLARGS, 'lexeme': (a=1), 'literal': None},\n",
       " {'type': EOF, 'lexeme': , 'literal': None}]"
      ]
     },
     "metadata": {},
     "execution_count": 3
    }
   ],
   "source": [
    "scan(\"x + fun(~x + 1) + b + fun2(a=1)\")"
   ]
  },
  {
   "cell_type": "code",
   "execution_count": 4,
   "metadata": {},
   "outputs": [
    {
     "output_type": "execute_result",
     "data": {
      "text/plain": [
       "Binary(\n",
       "  left=Binary(\n",
       "    left=Binary(\n",
       "      left=Variable(x),\n",
       "      op=+,\n",
       "      right=Call(\n",
       "        callee=Variable(fun),\n",
       "        args=(~x + 1),\n",
       "        special=False\n",
       "      )\n",
       "    ),\n",
       "    op=+,\n",
       "    right=Variable(b)\n",
       "  ),\n",
       "  op=+,\n",
       "  right=Call(\n",
       "    callee=Variable(fun2),\n",
       "    args=(a=1),\n",
       "    special=False\n",
       "  )\n",
       ")"
      ]
     },
     "metadata": {},
     "execution_count": 4
    }
   ],
   "source": [
    "parse(\"x + fun(~x + 1) + b + fun2(a=1)\")"
   ]
  },
  {
   "cell_type": "markdown",
   "metadata": {},
   "source": [
    "## Check precedence"
   ]
  },
  {
   "cell_type": "markdown",
   "metadata": {},
   "source": [
    "### Sum and product"
   ]
  },
  {
   "cell_type": "code",
   "execution_count": 5,
   "metadata": {},
   "outputs": [
    {
     "output_type": "execute_result",
     "data": {
      "text/plain": [
       "Binary(\n",
       "  left=Variable(x),\n",
       "  op=+,\n",
       "  right=Binary(\n",
       "    left=Variable(y),\n",
       "    op=*,\n",
       "    right=Variable(z)\n",
       "  )\n",
       ")"
      ]
     },
     "metadata": {},
     "execution_count": 5
    }
   ],
   "source": [
    "parse(\"x + y * z\")"
   ]
  },
  {
   "cell_type": "code",
   "execution_count": 6,
   "metadata": {},
   "outputs": [
    {
     "output_type": "execute_result",
     "data": {
      "text/plain": [
       "Binary(\n",
       "  left=Binary(\n",
       "    left=Variable(x),\n",
       "    op=*,\n",
       "    right=Variable(y)\n",
       "  ),\n",
       "  op=+,\n",
       "  right=Variable(z)\n",
       ")"
      ]
     },
     "metadata": {},
     "execution_count": 6
    }
   ],
   "source": [
    "parse(\"x * y + z\")"
   ]
  },
  {
   "cell_type": "markdown",
   "metadata": {},
   "source": [
    "### Sum, product, interaction"
   ]
  },
  {
   "cell_type": "code",
   "execution_count": 7,
   "metadata": {},
   "outputs": [
    {
     "output_type": "execute_result",
     "data": {
      "text/plain": [
       "Binary(\n",
       "  left=Variable(x),\n",
       "  op=+,\n",
       "  right=Binary(\n",
       "    left=Binary(\n",
       "      left=Variable(y),\n",
       "      op=:,\n",
       "      right=Variable(z)\n",
       "    ),\n",
       "    op=*,\n",
       "    right=Variable(y)\n",
       "  )\n",
       ")"
      ]
     },
     "metadata": {},
     "execution_count": 7
    }
   ],
   "source": [
    "parse(\"x + y : z * y\")"
   ]
  },
  {
   "cell_type": "code",
   "execution_count": 8,
   "metadata": {},
   "outputs": [
    {
     "output_type": "execute_result",
     "data": {
      "text/plain": [
       "Binary(\n",
       "  left=Binary(\n",
       "    left=Variable(x),\n",
       "    op=:,\n",
       "    right=Variable(y)\n",
       "  ),\n",
       "  op=+,\n",
       "  right=Binary(\n",
       "    left=Variable(z),\n",
       "    op=*,\n",
       "    right=Variable(y)\n",
       "  )\n",
       ")"
      ]
     },
     "metadata": {},
     "execution_count": 8
    }
   ],
   "source": [
    "parse(\"x : y + z * y\")"
   ]
  },
  {
   "cell_type": "markdown",
   "metadata": {},
   "source": [
    "### Power interaction"
   ]
  },
  {
   "cell_type": "code",
   "execution_count": 9,
   "metadata": {},
   "outputs": [
    {
     "output_type": "execute_result",
     "data": {
      "text/plain": [
       "Binary(\n",
       "  left=Binary(\n",
       "    left=Variable(x),\n",
       "    op=**,\n",
       "    right=Variable(y)\n",
       "  ),\n",
       "  op=:,\n",
       "  right=Variable(z)\n",
       ")"
      ]
     },
     "metadata": {},
     "execution_count": 9
    }
   ],
   "source": [
    "parse(\"x ** y : z\")"
   ]
  },
  {
   "cell_type": "code",
   "execution_count": 10,
   "metadata": {},
   "outputs": [
    {
     "output_type": "execute_result",
     "data": {
      "text/plain": [
       "Binary(\n",
       "  left=Variable(y),\n",
       "  op=:,\n",
       "  right=Binary(\n",
       "    left=Variable(z),\n",
       "    op=**,\n",
       "    right=Literal(5)\n",
       "  )\n",
       ")"
      ]
     },
     "metadata": {},
     "execution_count": 10
    }
   ],
   "source": [
    "parse(\"y : z ** 5\")"
   ]
  },
  {
   "source": [
    "# Stuff about the resolver"
   ],
   "cell_type": "markdown",
   "metadata": {}
  },
  {
   "cell_type": "code",
   "execution_count": 11,
   "metadata": {},
   "outputs": [
    {
     "output_type": "execute_result",
     "data": {
      "text/plain": [
       "Term(\n",
       "  name= x\n",
       "  variable= x\n",
       "  kind= None\n",
       "  data= None\n",
       ")"
      ]
     },
     "metadata": {},
     "execution_count": 11
    }
   ],
   "source": [
    "resolve(\"x\")"
   ]
  },
  {
   "cell_type": "code",
   "execution_count": 12,
   "metadata": {},
   "outputs": [
    {
     "output_type": "execute_result",
     "data": {
      "text/plain": [
       "ModelTerms(\n",
       "  Term(\n",
       "    name= x\n",
       "    variable= x\n",
       "    kind= None\n",
       "    data= None\n",
       "  ),\n",
       "  Term(\n",
       "    name= y\n",
       "    variable= y\n",
       "    kind= None\n",
       "    data= None\n",
       "  )\n",
       ")"
      ]
     },
     "metadata": {},
     "execution_count": 12
    }
   ],
   "source": [
    "resolve(\"x + y\")"
   ]
  },
  {
   "cell_type": "code",
   "execution_count": 13,
   "metadata": {},
   "outputs": [
    {
     "output_type": "execute_result",
     "data": {
      "text/plain": [
       "ModelTerms(\n",
       "  Term(\n",
       "    name= x\n",
       "    variable= x\n",
       "    kind= None\n",
       "    data= None\n",
       "  )\n",
       ")"
      ]
     },
     "metadata": {},
     "execution_count": 13
    }
   ],
   "source": [
    "resolve(\"x + z - z\")"
   ]
  },
  {
   "cell_type": "code",
   "execution_count": 14,
   "metadata": {},
   "outputs": [
    {
     "output_type": "execute_result",
     "data": {
      "text/plain": [
       "ModelTerms(\n",
       "  Term(\n",
       "    name= x\n",
       "    variable= x\n",
       "    kind= None\n",
       "    data= None\n",
       "  ),\n",
       "  Term(\n",
       "    name= z\n",
       "    variable= z\n",
       "    kind= None\n",
       "    data= None\n",
       "  ),\n",
       "  Term(\n",
       "    name= m\n",
       "    variable= m\n",
       "    kind= None\n",
       "    data= None\n",
       "  )\n",
       ")"
      ]
     },
     "metadata": {},
     "execution_count": 14
    }
   ],
   "source": [
    "resolve(\"x + z - y + m\")"
   ]
  },
  {
   "cell_type": "code",
   "execution_count": 15,
   "metadata": {},
   "outputs": [
    {
     "output_type": "execute_result",
     "data": {
      "text/plain": [
       "ModelTerms(\n",
       "  ResponseTerm(\n",
       "    name= y\n",
       "    variable= y\n",
       "    kind= None\n",
       "    data= None\n",
       "  ),\n",
       "  Term(\n",
       "    name= a\n",
       "    variable= a\n",
       "    kind= None\n",
       "    data= None\n",
       "  ),\n",
       "  Term(\n",
       "    name= b\n",
       "    variable= b\n",
       "    kind= None\n",
       "    data= None\n",
       "  )\n",
       ")"
      ]
     },
     "metadata": {},
     "execution_count": 15
    }
   ],
   "source": [
    "resolve(\"y ~ a + b\")"
   ]
  },
  {
   "cell_type": "code",
   "execution_count": 16,
   "metadata": {},
   "outputs": [
    {
     "output_type": "execute_result",
     "data": {
      "text/plain": [
       "ModelTerms(\n",
       "  ResponseTerm(\n",
       "    name= y\n",
       "    variable= y\n",
       "    kind= None\n",
       "    data= None\n",
       "  ),\n",
       "  Term(\n",
       "    name= a\n",
       "    variable= a\n",
       "    kind= None\n",
       "    data= None\n",
       "  ),\n",
       "  Term(\n",
       "    name= b\n",
       "    variable= b\n",
       "    kind= None\n",
       "    data= None\n",
       "  ),\n",
       "  InteractionTerm(\n",
       "    name= a:b\n",
       "    variables= {'a', 'b'}\n",
       "  ),\n",
       "  Term(\n",
       "    name= c\n",
       "    variable= c\n",
       "    kind= None\n",
       "    data= None\n",
       "  ),\n",
       "  InteractionTerm(\n",
       "    name= a:b:c\n",
       "    variables= {'a', 'b', 'c'}\n",
       "  )\n",
       ")"
      ]
     },
     "metadata": {},
     "execution_count": 16
    }
   ],
   "source": [
    "resolve(\"y ~ a + b + a:b + c + a:b + a:b:c\")"
   ]
  },
  {
   "cell_type": "code",
   "execution_count": 17,
   "metadata": {},
   "outputs": [
    {
     "output_type": "execute_result",
     "data": {
      "text/plain": [
       "ModelTerms(\n",
       "  ResponseTerm(\n",
       "    name= y\n",
       "    variable= y\n",
       "    kind= None\n",
       "    data= None\n",
       "  ),\n",
       "  Term(\n",
       "    name= a\n",
       "    variable= a\n",
       "    kind= None\n",
       "    data= None\n",
       "  ),\n",
       "  InteractionTerm(\n",
       "    name= x:y\n",
       "    variables= {'x', 'y'}\n",
       "  ),\n",
       "  Term(\n",
       "    name= b\n",
       "    variable= b\n",
       "    kind= None\n",
       "    data= None\n",
       "  ),\n",
       "  Term(\n",
       "    name= c\n",
       "    variable= c\n",
       "    kind= None\n",
       "    data= None\n",
       "  )\n",
       ")"
      ]
     },
     "metadata": {},
     "execution_count": 17
    }
   ],
   "source": [
    "resolve(\"y ~ a ** 3 + x:y + b + c\")"
   ]
  },
  {
   "cell_type": "code",
   "execution_count": 18,
   "metadata": {},
   "outputs": [
    {
     "output_type": "execute_result",
     "data": {
      "text/plain": [
       "ModelTerms(\n",
       "  ResponseTerm(\n",
       "    name= y\n",
       "    variable= y\n",
       "    kind= None\n",
       "    data= None\n",
       "  ),\n",
       "  Term(\n",
       "    name= a\n",
       "    variable= a\n",
       "    kind= None\n",
       "    data= None\n",
       "  ),\n",
       "  Term(\n",
       "    name= b\n",
       "    variable= b\n",
       "    kind= None\n",
       "    data= None\n",
       "  ),\n",
       "  InteractionTerm(\n",
       "    name= a:b\n",
       "    variables= {'a', 'b'}\n",
       "  )\n",
       ")"
      ]
     },
     "metadata": {},
     "execution_count": 18
    }
   ],
   "source": [
    "resolve(\"y ~ a*b\")"
   ]
  },
  {
   "cell_type": "code",
   "execution_count": 19,
   "metadata": {},
   "outputs": [
    {
     "output_type": "execute_result",
     "data": {
      "text/plain": [
       "ModelTerms(\n",
       "  ResponseTerm(\n",
       "    name= y\n",
       "    variable= y\n",
       "    kind= None\n",
       "    data= None\n",
       "  ),\n",
       "  Term(\n",
       "    name= a\n",
       "    variable= a\n",
       "    kind= None\n",
       "    data= None\n",
       "  ),\n",
       "  InteractionTerm(\n",
       "    name= a:b\n",
       "    variables= {'a', 'b'}\n",
       "  ),\n",
       "  Term(\n",
       "    name= b\n",
       "    variable= b\n",
       "    kind= None\n",
       "    data= None\n",
       "  ),\n",
       "  Term(\n",
       "    name= c\n",
       "    variable= c\n",
       "    kind= None\n",
       "    data= None\n",
       "  )\n",
       ")"
      ]
     },
     "metadata": {},
     "execution_count": 19
    }
   ],
   "source": [
    "resolve(\"y ~ a/b + b**3 + c:c:c\")"
   ]
  },
  {
   "cell_type": "code",
   "execution_count": 20,
   "metadata": {},
   "outputs": [
    {
     "output_type": "execute_result",
     "data": {
      "text/plain": [
       "Term(\n",
       "  name= a\n",
       "  variable= a\n",
       "  kind= None\n",
       "  data= None\n",
       ")"
      ]
     },
     "metadata": {},
     "execution_count": 20
    }
   ],
   "source": [
    "resolve(\"+a\")"
   ]
  },
  {
   "cell_type": "code",
   "execution_count": 21,
   "metadata": {},
   "outputs": [
    {
     "output_type": "execute_result",
     "data": {
      "text/plain": [
       "NegatedTerm(\n",
       "  what=intercept\n",
       ")"
      ]
     },
     "metadata": {},
     "execution_count": 21
    }
   ],
   "source": [
    "resolve(\"-0\")\n",
    "# resolve(\"-a\") raises an intentional error, for now this is fine"
   ]
  },
  {
   "source": [
    "## Associativity of interaction"
   ],
   "cell_type": "markdown",
   "metadata": {}
  },
  {
   "cell_type": "code",
   "execution_count": 22,
   "metadata": {},
   "outputs": [
    {
     "output_type": "execute_result",
     "data": {
      "text/plain": [
       "ModelTerms(\n",
       "  InteractionTerm(\n",
       "    name= x:u\n",
       "    variables= {'x', 'u'}\n",
       "  ),\n",
       "  InteractionTerm(\n",
       "    name= x:v\n",
       "    variables= {'x', 'v'}\n",
       "  ),\n",
       "  InteractionTerm(\n",
       "    name= y:u\n",
       "    variables= {'u', 'y'}\n",
       "  ),\n",
       "  InteractionTerm(\n",
       "    name= y:v\n",
       "    variables= {'v', 'y'}\n",
       "  )\n",
       ")"
      ]
     },
     "metadata": {},
     "execution_count": 22
    }
   ],
   "source": [
    "resolve(\"(x + y):(u + v)\")"
   ]
  },
  {
   "cell_type": "code",
   "execution_count": 23,
   "metadata": {},
   "outputs": [
    {
     "output_type": "execute_result",
     "data": {
      "text/plain": [
       "ModelTerms(\n",
       "  InteractionTerm(\n",
       "    name= x:u\n",
       "    variables= {'x', 'u'}\n",
       "  ),\n",
       "  InteractionTerm(\n",
       "    name= y:u\n",
       "    variables= {'u', 'y'}\n",
       "  )\n",
       ")"
      ]
     },
     "metadata": {},
     "execution_count": 23
    }
   ],
   "source": [
    "resolve(\"(x + y):(u)\")"
   ]
  },
  {
   "cell_type": "code",
   "execution_count": 24,
   "metadata": {},
   "outputs": [
    {
     "output_type": "execute_result",
     "data": {
      "text/plain": [
       "ModelTerms(\n",
       "  InteractionTerm(\n",
       "    name= x:u:v\n",
       "    variables= {'x', 'u', 'v'}\n",
       "  ),\n",
       "  InteractionTerm(\n",
       "    name= y:u:v\n",
       "    variables= {'u', 'v', 'y'}\n",
       "  )\n",
       ")"
      ]
     },
     "metadata": {},
     "execution_count": 24
    }
   ],
   "source": [
    "resolve(\"(x + y):u:v\")"
   ]
  },
  {
   "source": [
    "## Associativity of product interaction"
   ],
   "cell_type": "markdown",
   "metadata": {}
  },
  {
   "cell_type": "code",
   "execution_count": 25,
   "metadata": {},
   "outputs": [
    {
     "output_type": "execute_result",
     "data": {
      "text/plain": [
       "ModelTerms(\n",
       "  Term(\n",
       "    name= x\n",
       "    variable= x\n",
       "    kind= None\n",
       "    data= None\n",
       "  ),\n",
       "  Term(\n",
       "    name= y\n",
       "    variable= y\n",
       "    kind= None\n",
       "    data= None\n",
       "  ),\n",
       "  Term(\n",
       "    name= u\n",
       "    variable= u\n",
       "    kind= None\n",
       "    data= None\n",
       "  ),\n",
       "  Term(\n",
       "    name= v\n",
       "    variable= v\n",
       "    kind= None\n",
       "    data= None\n",
       "  ),\n",
       "  InteractionTerm(\n",
       "    name= x:u\n",
       "    variables= {'x', 'u'}\n",
       "  ),\n",
       "  InteractionTerm(\n",
       "    name= x:v\n",
       "    variables= {'x', 'v'}\n",
       "  ),\n",
       "  InteractionTerm(\n",
       "    name= y:u\n",
       "    variables= {'u', 'y'}\n",
       "  ),\n",
       "  InteractionTerm(\n",
       "    name= y:v\n",
       "    variables= {'v', 'y'}\n",
       "  )\n",
       ")"
      ]
     },
     "metadata": {},
     "execution_count": 25
    }
   ],
   "source": [
    "resolve(\"(x + y)*(u + v)\")"
   ]
  },
  {
   "cell_type": "code",
   "execution_count": 26,
   "metadata": {},
   "outputs": [
    {
     "output_type": "execute_result",
     "data": {
      "text/plain": [
       "ModelTerms(\n",
       "  Term(\n",
       "    name= x\n",
       "    variable= x\n",
       "    kind= None\n",
       "    data= None\n",
       "  ),\n",
       "  Term(\n",
       "    name= y\n",
       "    variable= y\n",
       "    kind= None\n",
       "    data= None\n",
       "  ),\n",
       "  Term(\n",
       "    name= u\n",
       "    variable= u\n",
       "    kind= None\n",
       "    data= None\n",
       "  ),\n",
       "  InteractionTerm(\n",
       "    name= x:u\n",
       "    variables= {'x', 'u'}\n",
       "  ),\n",
       "  InteractionTerm(\n",
       "    name= y:u\n",
       "    variables= {'u', 'y'}\n",
       "  )\n",
       ")"
      ]
     },
     "metadata": {},
     "execution_count": 26
    }
   ],
   "source": [
    "resolve(\"(x + y)*(u)\")"
   ]
  },
  {
   "cell_type": "code",
   "execution_count": 27,
   "metadata": {},
   "outputs": [
    {
     "output_type": "execute_result",
     "data": {
      "text/plain": [
       "ModelTerms(\n",
       "  Term(\n",
       "    name= x\n",
       "    variable= x\n",
       "    kind= None\n",
       "    data= None\n",
       "  ),\n",
       "  Term(\n",
       "    name= y\n",
       "    variable= y\n",
       "    kind= None\n",
       "    data= None\n",
       "  ),\n",
       "  Term(\n",
       "    name= u\n",
       "    variable= u\n",
       "    kind= None\n",
       "    data= None\n",
       "  ),\n",
       "  InteractionTerm(\n",
       "    name= x:u\n",
       "    variables= {'x', 'u'}\n",
       "  ),\n",
       "  InteractionTerm(\n",
       "    name= y:u\n",
       "    variables= {'u', 'y'}\n",
       "  ),\n",
       "  Term(\n",
       "    name= v\n",
       "    variable= v\n",
       "    kind= None\n",
       "    data= None\n",
       "  ),\n",
       "  InteractionTerm(\n",
       "    name= x:v\n",
       "    variables= {'x', 'v'}\n",
       "  ),\n",
       "  InteractionTerm(\n",
       "    name= y:v\n",
       "    variables= {'v', 'y'}\n",
       "  ),\n",
       "  InteractionTerm(\n",
       "    name= u:v\n",
       "    variables= {'u', 'v'}\n",
       "  ),\n",
       "  InteractionTerm(\n",
       "    name= x:u:v\n",
       "    variables= {'x', 'u', 'v'}\n",
       "  ),\n",
       "  InteractionTerm(\n",
       "    name= y:u:v\n",
       "    variables= {'u', 'v', 'y'}\n",
       "  )\n",
       ")"
      ]
     },
     "metadata": {},
     "execution_count": 27
    }
   ],
   "source": [
    "resolve(\"(x + y)*u*v\")\n",
    "# (x:u) * v -> x:u:v + x:u + v \n",
    "# (y:u) * v -> y:u:v + y:u + v "
   ]
  },
  {
   "source": [
    "## NegatedTerm for intercept"
   ],
   "cell_type": "markdown",
   "metadata": {}
  },
  {
   "cell_type": "code",
   "execution_count": 28,
   "metadata": {},
   "outputs": [
    {
     "output_type": "stream",
     "name": "stdout",
     "text": [
      "ModelTerms(\n  NegatedTerm(\n    what=intercept\n  ),\n  Term(\n    name= a\n    variable= a\n    kind= None\n    data= None\n  )\n)\nModelTerms(\n  Term(\n    name= a\n    variable= a\n    kind= None\n    data= None\n  ),\n  NegatedTerm(\n    what=intercept\n  )\n)\n"
     ]
    }
   ],
   "source": [
    "print(resolve(\"-1 + a\"))\n",
    "print(resolve(\"a - 0\"))"
   ]
  },
  {
   "source": [
    "## CallTerm"
   ],
   "cell_type": "markdown",
   "metadata": {}
  },
  {
   "cell_type": "code",
   "execution_count": 29,
   "metadata": {},
   "outputs": [
    {
     "output_type": "execute_result",
     "data": {
      "text/plain": [
       "InteractionTerm(\n",
       "  name= fun(x + y):y\n",
       "  variables= {'y', 'fun(x + y)'}\n",
       ")"
      ]
     },
     "metadata": {},
     "execution_count": 29
    }
   ],
   "source": [
    "resolve(\"fun(x + y):y\")"
   ]
  },
  {
   "cell_type": "code",
   "execution_count": 30,
   "metadata": {},
   "outputs": [
    {
     "output_type": "execute_result",
     "data": {
      "text/plain": [
       "ModelTerms(\n",
       "  CallTerm(\n",
       "    call=fun(x + y),\n",
       "    special=False\n",
       "  ),\n",
       "  Term(\n",
       "    name= y\n",
       "    variable= y\n",
       "    kind= None\n",
       "    data= None\n",
       "  ),\n",
       "  InteractionTerm(\n",
       "    name= fun(x + y):y\n",
       "    variables= {'y', 'fun(x + y)'}\n",
       "  )\n",
       ")"
      ]
     },
     "metadata": {},
     "execution_count": 30
    }
   ],
   "source": [
    "resolve(\"fun(x + y)*y\")"
   ]
  },
  {
   "cell_type": "code",
   "execution_count": 31,
   "metadata": {},
   "outputs": [
    {
     "output_type": "execute_result",
     "data": {
      "text/plain": [
       "ModelTerms(\n",
       "  CallTerm(\n",
       "    call=fun(x + y),\n",
       "    special=False\n",
       "  ),\n",
       "  Term(\n",
       "    name= y\n",
       "    variable= y\n",
       "    kind= None\n",
       "    data= None\n",
       "  ),\n",
       "  InteractionTerm(\n",
       "    name= fun(x + y):y\n",
       "    variables= {'y', 'fun(x + y)'}\n",
       "  ),\n",
       "  Term(\n",
       "    name= a\n",
       "    variable= a\n",
       "    kind= None\n",
       "    data= None\n",
       "  ),\n",
       "  Term(\n",
       "    name= b\n",
       "    variable= b\n",
       "    kind= None\n",
       "    data= None\n",
       "  )\n",
       ")"
      ]
     },
     "metadata": {},
     "execution_count": 31
    }
   ],
   "source": [
    "resolve(\"a + fun(x + y)*y + b\")"
   ]
  },
  {
   "source": [
    "## Random effects"
   ],
   "cell_type": "markdown",
   "metadata": {}
  },
  {
   "cell_type": "code",
   "execution_count": 32,
   "metadata": {},
   "outputs": [
    {
     "output_type": "execute_result",
     "data": {
      "text/plain": [
       "ModelTerms(\n",
       "  ResponseTerm(\n",
       "    name= y\n",
       "    variable= y\n",
       "    kind= None\n",
       "    data= None\n",
       "  ),\n",
       "  Term(\n",
       "    name= x\n",
       "    variable= x\n",
       "    kind= None\n",
       "    data= None\n",
       "  ),\n",
       "  RandomTerm(\n",
       "    expr= LiteralTerm(value=1),\n",
       "    factor= Term(\n",
       "      name= b\n",
       "      variable= b\n",
       "      kind= None\n",
       "      data= None\n",
       "    )\n",
       "  )\n",
       ")"
      ]
     },
     "metadata": {},
     "execution_count": 32
    }
   ],
   "source": [
    "resolve(\"y ~ x + (1|b)\")"
   ]
  },
  {
   "cell_type": "code",
   "execution_count": 33,
   "metadata": {},
   "outputs": [
    {
     "output_type": "execute_result",
     "data": {
      "text/plain": [
       "ModelTerms(\n",
       "  RandomTerm(\n",
       "    expr= Term(\n",
       "      name= a\n",
       "      variable= a\n",
       "      kind= None\n",
       "      data= None\n",
       "    ),\n",
       "    factor= Term(\n",
       "      name= x\n",
       "      variable= x\n",
       "      kind= None\n",
       "      data= None\n",
       "    )\n",
       "  ),\n",
       "  RandomTerm(\n",
       "    expr= LiteralTerm(value=1),\n",
       "    factor= Term(\n",
       "      name= z\n",
       "      variable= z\n",
       "      kind= None\n",
       "      data= None\n",
       "    )\n",
       "  )\n",
       ")"
      ]
     },
     "metadata": {},
     "execution_count": 33
    }
   ],
   "source": [
    "resolve(\"(a|x) + (1|z)\")"
   ]
  },
  {
   "source": [
    "## Computing using a data frame as a data mask"
   ],
   "cell_type": "markdown",
   "metadata": {}
  },
  {
   "cell_type": "code",
   "execution_count": 34,
   "metadata": {},
   "outputs": [
    {
     "output_type": "execute_result",
     "data": {
      "text/plain": [
       "0    0.339521\n",
       "1   -1.837353\n",
       "2    1.559255\n",
       "3    1.185388\n",
       "4    1.558884\n",
       "5   -0.467426\n",
       "6    1.024077\n",
       "7   -2.001041\n",
       "8   -0.162371\n",
       "9    4.528191\n",
       "dtype: float64"
      ]
     },
     "metadata": {},
     "execution_count": 34
    }
   ],
   "source": [
    "np.random.seed(1234)\n",
    "data = pd.DataFrame({\n",
    "    'x': np.random.normal(size=10),\n",
    "    'y': np.random.normal(size=10),\n",
    "    'z': np.random.normal(size=10)\n",
    "})\n",
    "fm.eval_in_data_mask('x * y + z', data=data, n=1)"
   ]
  }
 ],
 "metadata": {
  "kernelspec": {
   "display_name": "formulae",
   "language": "python",
   "name": "formulae"
  },
  "language_info": {
   "codemirror_mode": {
    "name": "ipython",
    "version": 3
   },
   "file_extension": ".py",
   "mimetype": "text/x-python",
   "name": "python",
   "nbconvert_exporter": "python",
   "pygments_lexer": "ipython3",
   "version": "3.8.5-final"
  }
 },
 "nbformat": 4,
 "nbformat_minor": 4
}