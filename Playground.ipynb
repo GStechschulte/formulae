{
 "cells": [
  {
   "cell_type": "code",
   "execution_count": 1,
   "metadata": {},
   "outputs": [],
   "source": [
    "# TODO: Add support for 'y ~ .' notation, which implies 'y ~ . -a' and 'y~ . -1' and 'y~ -1 + .' must also work."
   ]
  },
  {
   "cell_type": "code",
   "execution_count": 2,
   "metadata": {},
   "outputs": [],
   "source": [
    "import formulae as fm\n",
    "import pandas as pd\n",
    "import numpy as np\n",
    "\n",
    "def parse(code):\n",
    "    return fm.Parser(fm.Scanner(code).scan_tokens()).parse()\n",
    "    \n",
    "def resolve(code):\n",
    "    return fm.Resolver(parse(code)).resolve()"
   ]
  },
  {
   "cell_type": "markdown",
   "metadata": {},
   "source": [
    "## Check precedence"
   ]
  },
  {
   "cell_type": "markdown",
   "metadata": {},
   "source": [
    "### Sum and product"
   ]
  },
  {
   "cell_type": "code",
   "execution_count": 3,
   "metadata": {},
   "outputs": [
    {
     "output_type": "stream",
     "name": "stdout",
     "text": [
      "Binary(\n  left=Variable(x),\n  op=+,\n  right=Binary(\n    left=Variable(y),\n    op=*,\n    right=Variable(z)\n  )\n)\nBinary(\n  left=Binary(\n    left=Variable(x),\n    op=*,\n    right=Variable(y)\n  ),\n  op=+,\n  right=Variable(z)\n)\n"
     ]
    }
   ],
   "source": [
    "print(parse(\"x + y * z\"))\n",
    "print(parse(\"x * y + z\"))"
   ]
  },
  {
   "cell_type": "markdown",
   "metadata": {},
   "source": [
    "### Sum, product, interaction"
   ]
  },
  {
   "cell_type": "code",
   "execution_count": 4,
   "metadata": {},
   "outputs": [
    {
     "output_type": "stream",
     "name": "stdout",
     "text": [
      "Binary(\n  left=Variable(x),\n  op=+,\n  right=Binary(\n    left=Binary(\n      left=Variable(y),\n      op=:,\n      right=Variable(z)\n    ),\n    op=*,\n    right=Variable(y)\n  )\n)\nBinary(\n  left=Binary(\n    left=Variable(x),\n    op=:,\n    right=Variable(y)\n  ),\n  op=+,\n  right=Binary(\n    left=Variable(z),\n    op=*,\n    right=Variable(y)\n  )\n)\n"
     ]
    }
   ],
   "source": [
    "print(parse(\"x + y : z * y\"))\n",
    "print(parse(\"x : y + z * y\"))"
   ]
  },
  {
   "cell_type": "markdown",
   "metadata": {},
   "source": [
    "### Power interaction"
   ]
  },
  {
   "cell_type": "code",
   "execution_count": 5,
   "metadata": {},
   "outputs": [
    {
     "output_type": "stream",
     "name": "stdout",
     "text": [
      "Binary(\n  left=Binary(\n    left=Variable(x),\n    op=**,\n    right=Variable(y)\n  ),\n  op=:,\n  right=Variable(z)\n)\nBinary(\n  left=Variable(y),\n  op=:,\n  right=Binary(\n    left=Variable(z),\n    op=**,\n    right=Literal(5)\n  )\n)\n"
     ]
    }
   ],
   "source": [
    "print(parse(\"x ** y : z\"))\n",
    "print(parse(\"y : z ** 5\"))"
   ]
  },
  {
   "cell_type": "code",
   "execution_count": 6,
   "metadata": {},
   "outputs": [
    {
     "output_type": "execute_result",
     "data": {
      "text/plain": [
       "Unary(\n",
       "  op=+, right=Literal(1)\n",
       ")"
      ]
     },
     "metadata": {},
     "execution_count": 6
    }
   ],
   "source": [
    "parse(\"+1\")"
   ]
  },
  {
   "cell_type": "code",
   "execution_count": 7,
   "metadata": {},
   "outputs": [
    {
     "output_type": "execute_result",
     "data": {
      "text/plain": [
       "[{'type': PLUS, 'lexeme': +, 'literal': None},\n",
       " {'type': NUMBER, 'lexeme': 1, 'literal': 1},\n",
       " {'type': RIGHT_PAREN, 'lexeme': ), 'literal': None},\n",
       " {'type': EOF, 'lexeme': , 'literal': None}]"
      ]
     },
     "metadata": {},
     "execution_count": 7
    }
   ],
   "source": [
    "fm.Scanner('+1)').scan_tokens()"
   ]
  },
  {
   "cell_type": "code",
   "execution_count": 8,
   "metadata": {},
   "outputs": [
    {
     "output_type": "execute_result",
     "data": {
      "text/plain": [
       "Term(\n",
       "  name= x\n",
       "  variable= x\n",
       "  kind= None\n",
       "  data= None\n",
       ")"
      ]
     },
     "metadata": {},
     "execution_count": 8
    }
   ],
   "source": [
    "fm.Resolver(parse(\"x\")).resolve()"
   ]
  },
  {
   "cell_type": "code",
   "execution_count": 9,
   "metadata": {},
   "outputs": [
    {
     "output_type": "execute_result",
     "data": {
      "text/plain": [
       "ModelTerms(\n",
       "  Term(\n",
       "    name= y\n",
       "    variable= y\n",
       "    kind= None\n",
       "    data= None\n",
       "  ),\n",
       "  Term(\n",
       "    name= x\n",
       "    variable= x\n",
       "    kind= None\n",
       "    data= None\n",
       "  )\n",
       ")"
      ]
     },
     "metadata": {},
     "execution_count": 9
    }
   ],
   "source": [
    "fm.Resolver(parse(\"x + y\")).resolve()"
   ]
  },
  {
   "cell_type": "code",
   "execution_count": 10,
   "metadata": {},
   "outputs": [
    {
     "output_type": "execute_result",
     "data": {
      "text/plain": [
       "ModelTerms(\n",
       "  Term(\n",
       "    name= x\n",
       "    variable= x\n",
       "    kind= None\n",
       "    data= None\n",
       "  )\n",
       ")"
      ]
     },
     "metadata": {},
     "execution_count": 10
    }
   ],
   "source": [
    "fm.Resolver(parse(\"x + z - z\")).resolve()"
   ]
  },
  {
   "cell_type": "code",
   "execution_count": 11,
   "metadata": {},
   "outputs": [
    {
     "output_type": "execute_result",
     "data": {
      "text/plain": [
       "ModelTerms(\n",
       "  Term(\n",
       "    name= m\n",
       "    variable= m\n",
       "    kind= None\n",
       "    data= None\n",
       "  ),\n",
       "  Term(\n",
       "    name= z\n",
       "    variable= z\n",
       "    kind= None\n",
       "    data= None\n",
       "  ),\n",
       "  Term(\n",
       "    name= x\n",
       "    variable= x\n",
       "    kind= None\n",
       "    data= None\n",
       "  )\n",
       ")"
      ]
     },
     "metadata": {},
     "execution_count": 11
    }
   ],
   "source": [
    "fm.Resolver(parse(\"x + z - y + m\")).resolve()"
   ]
  },
  {
   "cell_type": "code",
   "execution_count": 12,
   "metadata": {},
   "outputs": [
    {
     "output_type": "execute_result",
     "data": {
      "text/plain": [
       "ModelTerms(\n",
       "  ResponseTerm(\n",
       "    name= y\n",
       "    variable= y\n",
       "    kind= None\n",
       "    data= None\n",
       "  ),\n",
       "  Term(\n",
       "    name= a\n",
       "    variable= a\n",
       "    kind= None\n",
       "    data= None\n",
       "  ),\n",
       "  Term(\n",
       "    name= b\n",
       "    variable= b\n",
       "    kind= None\n",
       "    data= None\n",
       "  )\n",
       ")"
      ]
     },
     "metadata": {},
     "execution_count": 12
    }
   ],
   "source": [
    "fm.Resolver(parse(\"y ~ a + b\")).resolve()"
   ]
  },
  {
   "cell_type": "code",
   "execution_count": 13,
   "metadata": {},
   "outputs": [
    {
     "output_type": "execute_result",
     "data": {
      "text/plain": [
       "ModelTerms(\n",
       "  ResponseTerm(\n",
       "    name= y\n",
       "    variable= y\n",
       "    kind= None\n",
       "    data= None\n",
       "  ),\n",
       "  InteractionTerm(\n",
       "    name= a:b:c\n",
       "    variables= {'a', 'b', 'c'}\n",
       "  ),\n",
       "  Term(\n",
       "    name= a\n",
       "    variable= a\n",
       "    kind= None\n",
       "    data= None\n",
       "  ),\n",
       "  Term(\n",
       "    name= b\n",
       "    variable= b\n",
       "    kind= None\n",
       "    data= None\n",
       "  ),\n",
       "  InteractionTerm(\n",
       "    name= a:b\n",
       "    variables= {'a', 'b'}\n",
       "  ),\n",
       "  Term(\n",
       "    name= c\n",
       "    variable= c\n",
       "    kind= None\n",
       "    data= None\n",
       "  )\n",
       ")"
      ]
     },
     "metadata": {},
     "execution_count": 13
    }
   ],
   "source": [
    "fm.Resolver(parse(\"y ~ a + b + a:b + c + a:b + a:b:c\")).resolve()"
   ]
  },
  {
   "cell_type": "code",
   "execution_count": 14,
   "metadata": {},
   "outputs": [
    {
     "output_type": "execute_result",
     "data": {
      "text/plain": [
       "Binary(\n",
       "  left=Variable(y),\n",
       "  op=~,\n",
       "  right=Binary(\n",
       "    left=Variable(a),\n",
       "    op=**,\n",
       "    right=Literal(5)\n",
       "  )\n",
       ")"
      ]
     },
     "metadata": {},
     "execution_count": 14
    }
   ],
   "source": [
    "parse(\"y ~ a ** 5\")"
   ]
  },
  {
   "cell_type": "code",
   "execution_count": 15,
   "metadata": {},
   "outputs": [
    {
     "output_type": "execute_result",
     "data": {
      "text/plain": [
       "ModelTerms(\n",
       "  ResponseTerm(\n",
       "    name= y\n",
       "    variable= y\n",
       "    kind= None\n",
       "    data= None\n",
       "  ),\n",
       "  Term(\n",
       "    name= c\n",
       "    variable= c\n",
       "    kind= None\n",
       "    data= None\n",
       "  ),\n",
       "  Term(\n",
       "    name= a\n",
       "    variable= a\n",
       "    kind= None\n",
       "    data= None\n",
       "  ),\n",
       "  Term(\n",
       "    name= b\n",
       "    variable= b\n",
       "    kind= None\n",
       "    data= None\n",
       "  ),\n",
       "  InteractionTerm(\n",
       "    name= x:y\n",
       "    variables= {'x', 'y'}\n",
       "  )\n",
       ")"
      ]
     },
     "metadata": {},
     "execution_count": 15
    }
   ],
   "source": [
    "fm.Resolver(parse(\"y ~ a ** 3 + x:y + b + c\")).resolve()"
   ]
  },
  {
   "cell_type": "code",
   "execution_count": 16,
   "metadata": {},
   "outputs": [
    {
     "output_type": "execute_result",
     "data": {
      "text/plain": [
       "ModelTerms(\n",
       "  ResponseTerm(\n",
       "    name= y\n",
       "    variable= y\n",
       "    kind= None\n",
       "    data= None\n",
       "  ),\n",
       "  Term(\n",
       "    name= a\n",
       "    variable= a\n",
       "    kind= None\n",
       "    data= None\n",
       "  ),\n",
       "  Term(\n",
       "    name= b\n",
       "    variable= b\n",
       "    kind= None\n",
       "    data= None\n",
       "  ),\n",
       "  InteractionTerm(\n",
       "    name= a:b\n",
       "    variables= {'a', 'b'}\n",
       "  )\n",
       ")"
      ]
     },
     "metadata": {},
     "execution_count": 16
    }
   ],
   "source": [
    "fm.Resolver(parse(\"y ~ a*b\")).resolve()"
   ]
  },
  {
   "cell_type": "code",
   "execution_count": 17,
   "metadata": {},
   "outputs": [
    {
     "output_type": "execute_result",
     "data": {
      "text/plain": [
       "ModelTerms(\n",
       "  ResponseTerm(\n",
       "    name= y\n",
       "    variable= y\n",
       "    kind= None\n",
       "    data= None\n",
       "  ),\n",
       "  Term(\n",
       "    name= c\n",
       "    variable= c\n",
       "    kind= None\n",
       "    data= None\n",
       "  ),\n",
       "  Term(\n",
       "    name= a\n",
       "    variable= a\n",
       "    kind= None\n",
       "    data= None\n",
       "  ),\n",
       "  Term(\n",
       "    name= b\n",
       "    variable= b\n",
       "    kind= None\n",
       "    data= None\n",
       "  ),\n",
       "  InteractionTerm(\n",
       "    name= a:b\n",
       "    variables= {'a', 'b'}\n",
       "  )\n",
       ")"
      ]
     },
     "metadata": {},
     "execution_count": 17
    }
   ],
   "source": [
    "fm.Resolver(parse(\"y ~ a/b + b**3 + c:c:c\")).resolve()"
   ]
  },
  {
   "cell_type": "code",
   "execution_count": 18,
   "metadata": {},
   "outputs": [
    {
     "output_type": "stream",
     "name": "stdout",
     "text": [
      "Unary(\n  op=+, right=Variable(a)\n)\n"
     ]
    },
    {
     "output_type": "execute_result",
     "data": {
      "text/plain": [
       "Term(\n",
       "  name= a\n",
       "  variable= a\n",
       "  kind= None\n",
       "  data= None\n",
       ")"
      ]
     },
     "metadata": {},
     "execution_count": 18
    }
   ],
   "source": [
    "print(parse(\"+a\"))\n",
    "resolve(\"+a\")"
   ]
  },
  {
   "cell_type": "code",
   "execution_count": 19,
   "metadata": {},
   "outputs": [
    {
     "output_type": "stream",
     "name": "stdout",
     "text": [
      "Unary(\n  op=-, right=Variable(a)\n)\n"
     ]
    },
    {
     "output_type": "execute_result",
     "data": {
      "text/plain": [
       "NegatedTerm(\n",
       "  what=intercept\n",
       ")"
      ]
     },
     "metadata": {},
     "execution_count": 19
    }
   ],
   "source": [
    "print(parse(\"-a\"))\n",
    "resolve(\"-0\")\n",
    "# resolve(\"-a\") raises an expected error"
   ]
  },
  {
   "source": [
    "## Associativity of interaction"
   ],
   "cell_type": "markdown",
   "metadata": {}
  },
  {
   "cell_type": "code",
   "execution_count": 20,
   "metadata": {},
   "outputs": [
    {
     "output_type": "stream",
     "name": "stdout",
     "text": [
      "ModelTerms(\n  InteractionTerm(\n    name= y:u\n    variables= {'u', 'y'}\n  ),\n  InteractionTerm(\n    name= x:u\n    variables= {'u', 'x'}\n  ),\n  InteractionTerm(\n    name= y:v\n    variables= {'v', 'y'}\n  ),\n  InteractionTerm(\n    name= x:v\n    variables= {'v', 'x'}\n  )\n)\nModelTerms(\n  InteractionTerm(\n    name= y:u\n    variables= {'u', 'y'}\n  ),\n  InteractionTerm(\n    name= x:u\n    variables= {'u', 'x'}\n  )\n)\nModelTerms(\n  InteractionTerm(\n    name= x:u:v\n    variables= {'v', 'u', 'x'}\n  ),\n  InteractionTerm(\n    name= y:u:v\n    variables= {'v', 'u', 'y'}\n  )\n)\n"
     ]
    }
   ],
   "source": [
    "print(resolve(\"(x + y):(u + v)\"))\n",
    "print(resolve(\"(x + y):(u)\"))\n",
    "print(resolve(\"(x + y):u:v\"))"
   ]
  },
  {
   "cell_type": "code",
   "execution_count": 23,
   "metadata": {},
   "outputs": [
    {
     "output_type": "stream",
     "name": "stdout",
     "text": [
      "ModelTerms(\n  NegatedTerm(\n    what=intercept\n  ),\n  Term(\n    name= a\n    variable= a\n    kind= None\n    data= None\n  )\n)\nModelTerms(\n  Term(\n    name= a\n    variable= a\n    kind= None\n    data= None\n  ),\n  NegatedTerm(\n    what=intercept\n  )\n)\n"
     ]
    }
   ],
   "source": [
    "print(resolve(\"-1 + a\"))\n",
    "print(resolve(\"a - 0\"))"
   ]
  },
  {
   "cell_type": "code",
   "execution_count": 22,
   "metadata": {},
   "outputs": [
    {
     "output_type": "execute_result",
     "data": {
      "text/plain": [
       "0      0.409931\n",
       "1     -1.200646\n",
       "2      1.502854\n",
       "3      0.154682\n",
       "4      2.156952\n",
       "5    418.796134\n",
       "6      2.120067\n",
       "7     -2.201803\n",
       "8      0.011881\n",
       "9      1.449788\n",
       "dtype: float64"
      ]
     },
     "metadata": {},
     "execution_count": 22
    }
   ],
   "source": [
    "np.random.seed(1234)\n",
    "data = pd.DataFrame({\n",
    "    'x': np.random.normal(size=10),\n",
    "    'y': np.random.normal(size=10),\n",
    "    'z': np.random.normal(size=10)\n",
    "})\n",
    "fm.eval_in_data_mask('x / y', data=data, n=1)"
   ]
  }
 ],
 "metadata": {
  "kernelspec": {
   "display_name": "formulae",
   "language": "python",
   "name": "formulae"
  },
  "language_info": {
   "codemirror_mode": {
    "name": "ipython",
    "version": 3
   },
   "file_extension": ".py",
   "mimetype": "text/x-python",
   "name": "python",
   "nbconvert_exporter": "python",
   "pygments_lexer": "ipython3",
   "version": "3.8.5-final"
  }
 },
 "nbformat": 4,
 "nbformat_minor": 4
}